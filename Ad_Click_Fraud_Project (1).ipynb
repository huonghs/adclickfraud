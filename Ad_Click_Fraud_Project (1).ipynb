{
  "cells": [
    {
      "cell_type": "markdown",
      "id": "7e6458e3",
      "metadata": {
        "id": "7e6458e3"
      },
      "source": [
        "**Import Libraries**"
      ]
    },
    {
      "cell_type": "code",
      "source": [
        "!pip install PyDrive"
      ],
      "metadata": {
        "id": "qRpKCc9FNS9s"
      },
      "id": "qRpKCc9FNS9s",
      "execution_count": null,
      "outputs": []
    },
    {
      "cell_type": "code",
      "source": [
        "import os\n",
        "from pydrive.auth import GoogleAuth\n",
        "from pydrive.drive import GoogleDrive\n",
        "from google.colab import auth\n",
        "from oauth2client.client import GoogleCredentials"
      ],
      "metadata": {
        "id": "0VUDOFDLNYh-"
      },
      "id": "0VUDOFDLNYh-",
      "execution_count": null,
      "outputs": []
    },
    {
      "cell_type": "code",
      "execution_count": null,
      "id": "07a4687f",
      "metadata": {
        "id": "07a4687f"
      },
      "outputs": [],
      "source": [
        "import pandas as pd\n",
        "\n",
        "# Data Preparation and visualization\n",
        "import seaborn as sns\n",
        "from matplotlib import pyplot as plt\n",
        "from imblearn.under_sampling import RandomUnderSampler  \n",
        "from sklearn.preprocessing import StandardScaler   \n",
        "from sklearn.decomposition import PCA\n",
        "from sklearn.manifold import TSNE\n",
        "import matplotlib.patches as mpatches"
      ]
    },
    {
      "cell_type": "code",
      "source": [
        "#authenticating Google Drive\n",
        "\n",
        "auth.authenticate_user()\n",
        "gauth = GoogleAuth()\n",
        "gauth.credentials = GoogleCredentials.get_application_default()\n",
        "drive = GoogleDrive(gauth)"
      ],
      "metadata": {
        "id": "9RULkAsyNM8L"
      },
      "id": "9RULkAsyNM8L",
      "execution_count": null,
      "outputs": []
    },
    {
      "cell_type": "code",
      "source": [
        "#running on GPU\n",
        "\n",
        "gpu_info = !nvidia-smi\n",
        "gpu_info = '\\n'.join(gpu_info)\n",
        "if gpu_info.find('failed') >= 0:\n",
        "  print('Not connected to a GPU')\n",
        "else:\n",
        "  print(gpu_info)"
      ],
      "metadata": {
        "colab": {
          "base_uri": "https://localhost:8080/"
        },
        "id": "tNmrqZ9YNhDH",
        "outputId": "288e5124-c550-4cfe-844a-e9c04f7c432c"
      },
      "id": "tNmrqZ9YNhDH",
      "execution_count": null,
      "outputs": [
        {
          "output_type": "stream",
          "name": "stdout",
          "text": [
            "Sat Jul 30 23:20:37 2022       \n",
            "+-----------------------------------------------------------------------------+\n",
            "| NVIDIA-SMI 460.32.03    Driver Version: 460.32.03    CUDA Version: 11.2     |\n",
            "|-------------------------------+----------------------+----------------------+\n",
            "| GPU  Name        Persistence-M| Bus-Id        Disp.A | Volatile Uncorr. ECC |\n",
            "| Fan  Temp  Perf  Pwr:Usage/Cap|         Memory-Usage | GPU-Util  Compute M. |\n",
            "|                               |                      |               MIG M. |\n",
            "|===============================+======================+======================|\n",
            "|   0  Tesla P100-PCIE...  Off  | 00000000:00:04.0 Off |                    0 |\n",
            "| N/A   40C    P0    28W / 250W |      0MiB / 16280MiB |      0%      Default |\n",
            "|                               |                      |                  N/A |\n",
            "+-------------------------------+----------------------+----------------------+\n",
            "                                                                               \n",
            "+-----------------------------------------------------------------------------+\n",
            "| Processes:                                                                  |\n",
            "|  GPU   GI   CI        PID   Type   Process name                  GPU Memory |\n",
            "|        ID   ID                                                   Usage      |\n",
            "|=============================================================================|\n",
            "|  No running processes found                                                 |\n",
            "+-----------------------------------------------------------------------------+\n"
          ]
        }
      ]
    },
    {
      "cell_type": "code",
      "source": [
        "#using high-RAM\n",
        "\n",
        "from psutil import virtual_memory\n",
        "ram_gb = virtual_memory().total / 1e9\n",
        "print('Your runtime has {:.1f} gigabytes of available RAM\\n'.format(ram_gb))\n",
        "\n",
        "if ram_gb < 20:\n",
        "  print('Not using a high-RAM runtime')\n",
        "else:\n",
        "  print('You are using a high-RAM runtime!')"
      ],
      "metadata": {
        "colab": {
          "base_uri": "https://localhost:8080/"
        },
        "id": "VN9VbDR6Nwfs",
        "outputId": "e8bdf0bd-1ffe-4389-9abd-56cb09317ca5"
      },
      "id": "VN9VbDR6Nwfs",
      "execution_count": null,
      "outputs": [
        {
          "output_type": "stream",
          "name": "stdout",
          "text": [
            "Your runtime has 27.3 gigabytes of available RAM\n",
            "\n",
            "You are using a high-RAM runtime!\n"
          ]
        }
      ]
    },
    {
      "cell_type": "code",
      "source": [
        "#loading the dataset\n",
        "\n",
        "downloaded = drive.CreateFile({'id':'1famudHl0iFkKjZ2Drge1xNB-mWuk9xS_'}) \n",
        "downloaded.GetContentFile('train.csv')  \n"
      ],
      "metadata": {
        "id": "sE79oS0JN0uQ"
      },
      "id": "sE79oS0JN0uQ",
      "execution_count": null,
      "outputs": []
    },
    {
      "cell_type": "code",
      "source": [
        "downloaded = drive.CreateFile({'id':'1XBInwNISj8HfKpxUFL4kby_wSmmGIA1F'}) \n",
        "downloaded.GetContentFile('train_sample.csv')"
      ],
      "metadata": {
        "id": "tf4If_VvaMHY"
      },
      "id": "tf4If_VvaMHY",
      "execution_count": null,
      "outputs": []
    },
    {
      "cell_type": "code",
      "source": [
        "downloaded = drive.CreateFile({'id':'192L-WwVNdfbvVqUBLQbItMs4y5wemwD-'}) \n",
        "downloaded.GetContentFile('test.csv') "
      ],
      "metadata": {
        "id": "xz9NdgtRN5IT"
      },
      "id": "xz9NdgtRN5IT",
      "execution_count": null,
      "outputs": []
    },
    {
      "cell_type": "code",
      "execution_count": null,
      "id": "d4dd739e",
      "metadata": {
        "id": "d4dd739e"
      },
      "outputs": [],
      "source": [
        "adfraud = pd.read_csv('train_sample.csv')"
      ]
    },
    {
      "cell_type": "code",
      "execution_count": null,
      "id": "0fb4760a",
      "metadata": {
        "id": "0fb4760a"
      },
      "outputs": [],
      "source": [
        "adfraud_test = pd.read_csv('test.csv')"
      ]
    },
    {
      "cell_type": "markdown",
      "id": "b96bda04",
      "metadata": {
        "id": "b96bda04"
      },
      "source": [
        "**Exploring the dataset**"
      ]
    },
    {
      "cell_type": "code",
      "execution_count": null,
      "id": "15729480",
      "metadata": {
        "scrolled": true,
        "id": "15729480",
        "outputId": "b607bfeb-5d24-44b1-c79a-468a0a66a401",
        "colab": {
          "base_uri": "https://localhost:8080/"
        }
      },
      "outputs": [
        {
          "output_type": "stream",
          "name": "stdout",
          "text": [
            "Count of rows and column are:  (100000, 8)\n"
          ]
        }
      ],
      "source": [
        "print(\"Count of rows and column are: \" , adfraud.shape)"
      ]
    },
    {
      "cell_type": "code",
      "execution_count": null,
      "id": "77d181b7",
      "metadata": {
        "id": "77d181b7",
        "outputId": "cf923a77-dfbb-440c-fc61-f35d1ac63fda",
        "colab": {
          "base_uri": "https://localhost:8080/",
          "height": 206
        }
      },
      "outputs": [
        {
          "output_type": "execute_result",
          "data": {
            "text/plain": [
              "       ip  app  device  os  channel           click_time attributed_time  \\\n",
              "0   87540   12       1  13      497  2017-11-07 09:30:38             NaN   \n",
              "1  105560   25       1  17      259  2017-11-07 13:40:27             NaN   \n",
              "2  101424   12       1  19      212  2017-11-07 18:05:24             NaN   \n",
              "3   94584   13       1  13      477  2017-11-07 04:58:08             NaN   \n",
              "4   68413   12       1   1      178  2017-11-09 09:00:09             NaN   \n",
              "\n",
              "   is_attributed  \n",
              "0              0  \n",
              "1              0  \n",
              "2              0  \n",
              "3              0  \n",
              "4              0  "
            ],
            "text/html": [
              "\n",
              "  <div id=\"df-b862c7eb-2049-4296-a066-f4ed36802fee\">\n",
              "    <div class=\"colab-df-container\">\n",
              "      <div>\n",
              "<style scoped>\n",
              "    .dataframe tbody tr th:only-of-type {\n",
              "        vertical-align: middle;\n",
              "    }\n",
              "\n",
              "    .dataframe tbody tr th {\n",
              "        vertical-align: top;\n",
              "    }\n",
              "\n",
              "    .dataframe thead th {\n",
              "        text-align: right;\n",
              "    }\n",
              "</style>\n",
              "<table border=\"1\" class=\"dataframe\">\n",
              "  <thead>\n",
              "    <tr style=\"text-align: right;\">\n",
              "      <th></th>\n",
              "      <th>ip</th>\n",
              "      <th>app</th>\n",
              "      <th>device</th>\n",
              "      <th>os</th>\n",
              "      <th>channel</th>\n",
              "      <th>click_time</th>\n",
              "      <th>attributed_time</th>\n",
              "      <th>is_attributed</th>\n",
              "    </tr>\n",
              "  </thead>\n",
              "  <tbody>\n",
              "    <tr>\n",
              "      <th>0</th>\n",
              "      <td>87540</td>\n",
              "      <td>12</td>\n",
              "      <td>1</td>\n",
              "      <td>13</td>\n",
              "      <td>497</td>\n",
              "      <td>2017-11-07 09:30:38</td>\n",
              "      <td>NaN</td>\n",
              "      <td>0</td>\n",
              "    </tr>\n",
              "    <tr>\n",
              "      <th>1</th>\n",
              "      <td>105560</td>\n",
              "      <td>25</td>\n",
              "      <td>1</td>\n",
              "      <td>17</td>\n",
              "      <td>259</td>\n",
              "      <td>2017-11-07 13:40:27</td>\n",
              "      <td>NaN</td>\n",
              "      <td>0</td>\n",
              "    </tr>\n",
              "    <tr>\n",
              "      <th>2</th>\n",
              "      <td>101424</td>\n",
              "      <td>12</td>\n",
              "      <td>1</td>\n",
              "      <td>19</td>\n",
              "      <td>212</td>\n",
              "      <td>2017-11-07 18:05:24</td>\n",
              "      <td>NaN</td>\n",
              "      <td>0</td>\n",
              "    </tr>\n",
              "    <tr>\n",
              "      <th>3</th>\n",
              "      <td>94584</td>\n",
              "      <td>13</td>\n",
              "      <td>1</td>\n",
              "      <td>13</td>\n",
              "      <td>477</td>\n",
              "      <td>2017-11-07 04:58:08</td>\n",
              "      <td>NaN</td>\n",
              "      <td>0</td>\n",
              "    </tr>\n",
              "    <tr>\n",
              "      <th>4</th>\n",
              "      <td>68413</td>\n",
              "      <td>12</td>\n",
              "      <td>1</td>\n",
              "      <td>1</td>\n",
              "      <td>178</td>\n",
              "      <td>2017-11-09 09:00:09</td>\n",
              "      <td>NaN</td>\n",
              "      <td>0</td>\n",
              "    </tr>\n",
              "  </tbody>\n",
              "</table>\n",
              "</div>\n",
              "      <button class=\"colab-df-convert\" onclick=\"convertToInteractive('df-b862c7eb-2049-4296-a066-f4ed36802fee')\"\n",
              "              title=\"Convert this dataframe to an interactive table.\"\n",
              "              style=\"display:none;\">\n",
              "        \n",
              "  <svg xmlns=\"http://www.w3.org/2000/svg\" height=\"24px\"viewBox=\"0 0 24 24\"\n",
              "       width=\"24px\">\n",
              "    <path d=\"M0 0h24v24H0V0z\" fill=\"none\"/>\n",
              "    <path d=\"M18.56 5.44l.94 2.06.94-2.06 2.06-.94-2.06-.94-.94-2.06-.94 2.06-2.06.94zm-11 1L8.5 8.5l.94-2.06 2.06-.94-2.06-.94L8.5 2.5l-.94 2.06-2.06.94zm10 10l.94 2.06.94-2.06 2.06-.94-2.06-.94-.94-2.06-.94 2.06-2.06.94z\"/><path d=\"M17.41 7.96l-1.37-1.37c-.4-.4-.92-.59-1.43-.59-.52 0-1.04.2-1.43.59L10.3 9.45l-7.72 7.72c-.78.78-.78 2.05 0 2.83L4 21.41c.39.39.9.59 1.41.59.51 0 1.02-.2 1.41-.59l7.78-7.78 2.81-2.81c.8-.78.8-2.07 0-2.86zM5.41 20L4 18.59l7.72-7.72 1.47 1.35L5.41 20z\"/>\n",
              "  </svg>\n",
              "      </button>\n",
              "      \n",
              "  <style>\n",
              "    .colab-df-container {\n",
              "      display:flex;\n",
              "      flex-wrap:wrap;\n",
              "      gap: 12px;\n",
              "    }\n",
              "\n",
              "    .colab-df-convert {\n",
              "      background-color: #E8F0FE;\n",
              "      border: none;\n",
              "      border-radius: 50%;\n",
              "      cursor: pointer;\n",
              "      display: none;\n",
              "      fill: #1967D2;\n",
              "      height: 32px;\n",
              "      padding: 0 0 0 0;\n",
              "      width: 32px;\n",
              "    }\n",
              "\n",
              "    .colab-df-convert:hover {\n",
              "      background-color: #E2EBFA;\n",
              "      box-shadow: 0px 1px 2px rgba(60, 64, 67, 0.3), 0px 1px 3px 1px rgba(60, 64, 67, 0.15);\n",
              "      fill: #174EA6;\n",
              "    }\n",
              "\n",
              "    [theme=dark] .colab-df-convert {\n",
              "      background-color: #3B4455;\n",
              "      fill: #D2E3FC;\n",
              "    }\n",
              "\n",
              "    [theme=dark] .colab-df-convert:hover {\n",
              "      background-color: #434B5C;\n",
              "      box-shadow: 0px 1px 3px 1px rgba(0, 0, 0, 0.15);\n",
              "      filter: drop-shadow(0px 1px 2px rgba(0, 0, 0, 0.3));\n",
              "      fill: #FFFFFF;\n",
              "    }\n",
              "  </style>\n",
              "\n",
              "      <script>\n",
              "        const buttonEl =\n",
              "          document.querySelector('#df-b862c7eb-2049-4296-a066-f4ed36802fee button.colab-df-convert');\n",
              "        buttonEl.style.display =\n",
              "          google.colab.kernel.accessAllowed ? 'block' : 'none';\n",
              "\n",
              "        async function convertToInteractive(key) {\n",
              "          const element = document.querySelector('#df-b862c7eb-2049-4296-a066-f4ed36802fee');\n",
              "          const dataTable =\n",
              "            await google.colab.kernel.invokeFunction('convertToInteractive',\n",
              "                                                     [key], {});\n",
              "          if (!dataTable) return;\n",
              "\n",
              "          const docLinkHtml = 'Like what you see? Visit the ' +\n",
              "            '<a target=\"_blank\" href=https://colab.research.google.com/notebooks/data_table.ipynb>data table notebook</a>'\n",
              "            + ' to learn more about interactive tables.';\n",
              "          element.innerHTML = '';\n",
              "          dataTable['output_type'] = 'display_data';\n",
              "          await google.colab.output.renderOutput(dataTable, element);\n",
              "          const docLink = document.createElement('div');\n",
              "          docLink.innerHTML = docLinkHtml;\n",
              "          element.appendChild(docLink);\n",
              "        }\n",
              "      </script>\n",
              "    </div>\n",
              "  </div>\n",
              "  "
            ]
          },
          "metadata": {},
          "execution_count": 133
        }
      ],
      "source": [
        "adfraud.head()"
      ]
    },
    {
      "cell_type": "code",
      "execution_count": null,
      "id": "20f1685d",
      "metadata": {
        "id": "20f1685d",
        "outputId": "d3b3261a-4936-4281-b888-6e667b7c859c",
        "colab": {
          "base_uri": "https://localhost:8080/",
          "height": 300
        }
      },
      "outputs": [
        {
          "output_type": "execute_result",
          "data": {
            "text/plain": [
              "                  ip           app         device             os  \\\n",
              "count  100000.000000  100000.00000  100000.000000  100000.000000   \n",
              "mean    91255.879670      12.04788      21.771250      22.818280   \n",
              "std     69835.553661      14.94150     259.667767      55.943136   \n",
              "min         9.000000       1.00000       0.000000       0.000000   \n",
              "25%     40552.000000       3.00000       1.000000      13.000000   \n",
              "50%     79827.000000      12.00000       1.000000      18.000000   \n",
              "75%    118252.000000      15.00000       1.000000      19.000000   \n",
              "max    364757.000000     551.00000    3867.000000     866.000000   \n",
              "\n",
              "             channel  is_attributed  \n",
              "count  100000.000000  100000.000000  \n",
              "mean      268.832460       0.002270  \n",
              "std       129.724248       0.047591  \n",
              "min         3.000000       0.000000  \n",
              "25%       145.000000       0.000000  \n",
              "50%       258.000000       0.000000  \n",
              "75%       379.000000       0.000000  \n",
              "max       498.000000       1.000000  "
            ],
            "text/html": [
              "\n",
              "  <div id=\"df-19e1b735-25be-428b-8ea2-bd9a9a9f57fb\">\n",
              "    <div class=\"colab-df-container\">\n",
              "      <div>\n",
              "<style scoped>\n",
              "    .dataframe tbody tr th:only-of-type {\n",
              "        vertical-align: middle;\n",
              "    }\n",
              "\n",
              "    .dataframe tbody tr th {\n",
              "        vertical-align: top;\n",
              "    }\n",
              "\n",
              "    .dataframe thead th {\n",
              "        text-align: right;\n",
              "    }\n",
              "</style>\n",
              "<table border=\"1\" class=\"dataframe\">\n",
              "  <thead>\n",
              "    <tr style=\"text-align: right;\">\n",
              "      <th></th>\n",
              "      <th>ip</th>\n",
              "      <th>app</th>\n",
              "      <th>device</th>\n",
              "      <th>os</th>\n",
              "      <th>channel</th>\n",
              "      <th>is_attributed</th>\n",
              "    </tr>\n",
              "  </thead>\n",
              "  <tbody>\n",
              "    <tr>\n",
              "      <th>count</th>\n",
              "      <td>100000.000000</td>\n",
              "      <td>100000.00000</td>\n",
              "      <td>100000.000000</td>\n",
              "      <td>100000.000000</td>\n",
              "      <td>100000.000000</td>\n",
              "      <td>100000.000000</td>\n",
              "    </tr>\n",
              "    <tr>\n",
              "      <th>mean</th>\n",
              "      <td>91255.879670</td>\n",
              "      <td>12.04788</td>\n",
              "      <td>21.771250</td>\n",
              "      <td>22.818280</td>\n",
              "      <td>268.832460</td>\n",
              "      <td>0.002270</td>\n",
              "    </tr>\n",
              "    <tr>\n",
              "      <th>std</th>\n",
              "      <td>69835.553661</td>\n",
              "      <td>14.94150</td>\n",
              "      <td>259.667767</td>\n",
              "      <td>55.943136</td>\n",
              "      <td>129.724248</td>\n",
              "      <td>0.047591</td>\n",
              "    </tr>\n",
              "    <tr>\n",
              "      <th>min</th>\n",
              "      <td>9.000000</td>\n",
              "      <td>1.00000</td>\n",
              "      <td>0.000000</td>\n",
              "      <td>0.000000</td>\n",
              "      <td>3.000000</td>\n",
              "      <td>0.000000</td>\n",
              "    </tr>\n",
              "    <tr>\n",
              "      <th>25%</th>\n",
              "      <td>40552.000000</td>\n",
              "      <td>3.00000</td>\n",
              "      <td>1.000000</td>\n",
              "      <td>13.000000</td>\n",
              "      <td>145.000000</td>\n",
              "      <td>0.000000</td>\n",
              "    </tr>\n",
              "    <tr>\n",
              "      <th>50%</th>\n",
              "      <td>79827.000000</td>\n",
              "      <td>12.00000</td>\n",
              "      <td>1.000000</td>\n",
              "      <td>18.000000</td>\n",
              "      <td>258.000000</td>\n",
              "      <td>0.000000</td>\n",
              "    </tr>\n",
              "    <tr>\n",
              "      <th>75%</th>\n",
              "      <td>118252.000000</td>\n",
              "      <td>15.00000</td>\n",
              "      <td>1.000000</td>\n",
              "      <td>19.000000</td>\n",
              "      <td>379.000000</td>\n",
              "      <td>0.000000</td>\n",
              "    </tr>\n",
              "    <tr>\n",
              "      <th>max</th>\n",
              "      <td>364757.000000</td>\n",
              "      <td>551.00000</td>\n",
              "      <td>3867.000000</td>\n",
              "      <td>866.000000</td>\n",
              "      <td>498.000000</td>\n",
              "      <td>1.000000</td>\n",
              "    </tr>\n",
              "  </tbody>\n",
              "</table>\n",
              "</div>\n",
              "      <button class=\"colab-df-convert\" onclick=\"convertToInteractive('df-19e1b735-25be-428b-8ea2-bd9a9a9f57fb')\"\n",
              "              title=\"Convert this dataframe to an interactive table.\"\n",
              "              style=\"display:none;\">\n",
              "        \n",
              "  <svg xmlns=\"http://www.w3.org/2000/svg\" height=\"24px\"viewBox=\"0 0 24 24\"\n",
              "       width=\"24px\">\n",
              "    <path d=\"M0 0h24v24H0V0z\" fill=\"none\"/>\n",
              "    <path d=\"M18.56 5.44l.94 2.06.94-2.06 2.06-.94-2.06-.94-.94-2.06-.94 2.06-2.06.94zm-11 1L8.5 8.5l.94-2.06 2.06-.94-2.06-.94L8.5 2.5l-.94 2.06-2.06.94zm10 10l.94 2.06.94-2.06 2.06-.94-2.06-.94-.94-2.06-.94 2.06-2.06.94z\"/><path d=\"M17.41 7.96l-1.37-1.37c-.4-.4-.92-.59-1.43-.59-.52 0-1.04.2-1.43.59L10.3 9.45l-7.72 7.72c-.78.78-.78 2.05 0 2.83L4 21.41c.39.39.9.59 1.41.59.51 0 1.02-.2 1.41-.59l7.78-7.78 2.81-2.81c.8-.78.8-2.07 0-2.86zM5.41 20L4 18.59l7.72-7.72 1.47 1.35L5.41 20z\"/>\n",
              "  </svg>\n",
              "      </button>\n",
              "      \n",
              "  <style>\n",
              "    .colab-df-container {\n",
              "      display:flex;\n",
              "      flex-wrap:wrap;\n",
              "      gap: 12px;\n",
              "    }\n",
              "\n",
              "    .colab-df-convert {\n",
              "      background-color: #E8F0FE;\n",
              "      border: none;\n",
              "      border-radius: 50%;\n",
              "      cursor: pointer;\n",
              "      display: none;\n",
              "      fill: #1967D2;\n",
              "      height: 32px;\n",
              "      padding: 0 0 0 0;\n",
              "      width: 32px;\n",
              "    }\n",
              "\n",
              "    .colab-df-convert:hover {\n",
              "      background-color: #E2EBFA;\n",
              "      box-shadow: 0px 1px 2px rgba(60, 64, 67, 0.3), 0px 1px 3px 1px rgba(60, 64, 67, 0.15);\n",
              "      fill: #174EA6;\n",
              "    }\n",
              "\n",
              "    [theme=dark] .colab-df-convert {\n",
              "      background-color: #3B4455;\n",
              "      fill: #D2E3FC;\n",
              "    }\n",
              "\n",
              "    [theme=dark] .colab-df-convert:hover {\n",
              "      background-color: #434B5C;\n",
              "      box-shadow: 0px 1px 3px 1px rgba(0, 0, 0, 0.15);\n",
              "      filter: drop-shadow(0px 1px 2px rgba(0, 0, 0, 0.3));\n",
              "      fill: #FFFFFF;\n",
              "    }\n",
              "  </style>\n",
              "\n",
              "      <script>\n",
              "        const buttonEl =\n",
              "          document.querySelector('#df-19e1b735-25be-428b-8ea2-bd9a9a9f57fb button.colab-df-convert');\n",
              "        buttonEl.style.display =\n",
              "          google.colab.kernel.accessAllowed ? 'block' : 'none';\n",
              "\n",
              "        async function convertToInteractive(key) {\n",
              "          const element = document.querySelector('#df-19e1b735-25be-428b-8ea2-bd9a9a9f57fb');\n",
              "          const dataTable =\n",
              "            await google.colab.kernel.invokeFunction('convertToInteractive',\n",
              "                                                     [key], {});\n",
              "          if (!dataTable) return;\n",
              "\n",
              "          const docLinkHtml = 'Like what you see? Visit the ' +\n",
              "            '<a target=\"_blank\" href=https://colab.research.google.com/notebooks/data_table.ipynb>data table notebook</a>'\n",
              "            + ' to learn more about interactive tables.';\n",
              "          element.innerHTML = '';\n",
              "          dataTable['output_type'] = 'display_data';\n",
              "          await google.colab.output.renderOutput(dataTable, element);\n",
              "          const docLink = document.createElement('div');\n",
              "          docLink.innerHTML = docLinkHtml;\n",
              "          element.appendChild(docLink);\n",
              "        }\n",
              "      </script>\n",
              "    </div>\n",
              "  </div>\n",
              "  "
            ]
          },
          "metadata": {},
          "execution_count": 134
        }
      ],
      "source": [
        "adfraud.describe()"
      ]
    },
    {
      "cell_type": "code",
      "execution_count": null,
      "id": "9bdf3026",
      "metadata": {
        "id": "9bdf3026",
        "outputId": "8a1b1854-3710-4092-d563-683c696319b2",
        "colab": {
          "base_uri": "https://localhost:8080/"
        }
      },
      "outputs": [
        {
          "output_type": "stream",
          "name": "stdout",
          "text": [
            "<class 'pandas.core.frame.DataFrame'>\n",
            "RangeIndex: 100000 entries, 0 to 99999\n",
            "Data columns (total 8 columns):\n",
            " #   Column           Non-Null Count   Dtype \n",
            "---  ------           --------------   ----- \n",
            " 0   ip               100000 non-null  int64 \n",
            " 1   app              100000 non-null  int64 \n",
            " 2   device           100000 non-null  int64 \n",
            " 3   os               100000 non-null  int64 \n",
            " 4   channel          100000 non-null  int64 \n",
            " 5   click_time       100000 non-null  object\n",
            " 6   attributed_time  227 non-null     object\n",
            " 7   is_attributed    100000 non-null  int64 \n",
            "dtypes: int64(6), object(2)\n",
            "memory usage: 6.1+ MB\n"
          ]
        }
      ],
      "source": [
        "adfraud.info()"
      ]
    },
    {
      "cell_type": "code",
      "execution_count": null,
      "id": "ec6d233e",
      "metadata": {
        "id": "ec6d233e",
        "outputId": "d122dfbe-94a4-48bd-8c86-ac715599dc4e",
        "colab": {
          "base_uri": "https://localhost:8080/"
        }
      },
      "outputs": [
        {
          "output_type": "stream",
          "name": "stdout",
          "text": [
            "ip : 34857\n",
            "app : 161\n",
            "device : 100\n",
            "os : 130\n",
            "channel : 161\n",
            "click_time : 80350\n",
            "attributed_time : 228\n",
            "is_attributed : 2\n"
          ]
        }
      ],
      "source": [
        "#number of unique values per feature\n",
        "\n",
        "for i in adfraud.columns:\n",
        "    cnt = len(adfraud[i].unique())\n",
        "    print(i,\":\",cnt)"
      ]
    },
    {
      "cell_type": "code",
      "execution_count": null,
      "id": "08108da1",
      "metadata": {
        "id": "08108da1"
      },
      "outputs": [],
      "source": [
        "#ip, app, device, os and channel are actually categorical variables encoded as integers\n",
        "#transform this data types to categories\n",
        "\n",
        "#variables = ['ip', 'app', 'device', 'os', 'channel']\n",
        "#for v in variables:\n",
        " #   adfraud[v] = adfraud[v].astype('category')\n",
        "  #  adfraud_test[v]=adfraud_test[v].astype('category')"
      ]
    },
    {
      "cell_type": "code",
      "execution_count": null,
      "id": "0e498069",
      "metadata": {
        "id": "0e498069"
      },
      "outputs": [],
      "source": [
        "#convert click_time and attributed_time to date/time data type\n",
        "\n",
        "adfraud['click_time'] = pd.to_datetime(adfraud['click_time'])\n",
        "adfraud['attributed_time'] = pd.to_datetime(adfraud['attributed_time'])\n",
        "adfraud_test['click_time'] = pd.to_datetime(adfraud_test['click_time'])\n"
      ]
    },
    {
      "cell_type": "code",
      "execution_count": null,
      "id": "809d118c",
      "metadata": {
        "id": "809d118c"
      },
      "outputs": [],
      "source": [
        "#convert outcome variable (is_attributed) to categorical data type\n",
        "#adfraud['is_attributed']=adfraud['is_attributed'].astype('category')"
      ]
    },
    {
      "cell_type": "code",
      "execution_count": null,
      "id": "538ebf01",
      "metadata": {
        "id": "538ebf01",
        "outputId": "b7b4ad45-3ce6-4a78-976d-ccc5be7ee3b7",
        "colab": {
          "base_uri": "https://localhost:8080/"
        }
      },
      "outputs": [
        {
          "output_type": "stream",
          "name": "stdout",
          "text": [
            "<class 'pandas.core.frame.DataFrame'>\n",
            "RangeIndex: 100000 entries, 0 to 99999\n",
            "Data columns (total 8 columns):\n",
            " #   Column           Non-Null Count   Dtype         \n",
            "---  ------           --------------   -----         \n",
            " 0   ip               100000 non-null  int64         \n",
            " 1   app              100000 non-null  int64         \n",
            " 2   device           100000 non-null  int64         \n",
            " 3   os               100000 non-null  int64         \n",
            " 4   channel          100000 non-null  int64         \n",
            " 5   click_time       100000 non-null  datetime64[ns]\n",
            " 6   attributed_time  227 non-null     datetime64[ns]\n",
            " 7   is_attributed    100000 non-null  int64         \n",
            "dtypes: datetime64[ns](2), int64(6)\n",
            "memory usage: 6.1 MB\n"
          ]
        }
      ],
      "source": [
        "adfraud.info()"
      ]
    },
    {
      "cell_type": "markdown",
      "id": "c865bcd2",
      "metadata": {
        "id": "c865bcd2"
      },
      "source": [
        "**Checking Missing Values**"
      ]
    },
    {
      "cell_type": "code",
      "execution_count": null,
      "id": "28fffaf8",
      "metadata": {
        "id": "28fffaf8"
      },
      "outputs": [],
      "source": [
        "def missing_data(data):\n",
        "    total = data.isnull().sum().sort_values(ascending = False)\n",
        "    percent = (data.isnull().sum()/data.isnull().count()*100).sort_values(ascending = False)\n",
        "    return pd.concat([total, percent], axis=1, keys=['Total', 'Percent'])"
      ]
    },
    {
      "cell_type": "code",
      "execution_count": null,
      "id": "a1e13642",
      "metadata": {
        "id": "a1e13642",
        "outputId": "dad7e362-0fd7-4922-8e21-955aa2d9a70c",
        "colab": {
          "base_uri": "https://localhost:8080/",
          "height": 300
        }
      },
      "outputs": [
        {
          "output_type": "execute_result",
          "data": {
            "text/plain": [
              "                 Total  Percent\n",
              "attributed_time  99773   99.773\n",
              "ip                   0    0.000\n",
              "app                  0    0.000\n",
              "device               0    0.000\n",
              "os                   0    0.000\n",
              "channel              0    0.000\n",
              "click_time           0    0.000\n",
              "is_attributed        0    0.000"
            ],
            "text/html": [
              "\n",
              "  <div id=\"df-8e372ece-a67b-4a0c-ab57-18627382a4c1\">\n",
              "    <div class=\"colab-df-container\">\n",
              "      <div>\n",
              "<style scoped>\n",
              "    .dataframe tbody tr th:only-of-type {\n",
              "        vertical-align: middle;\n",
              "    }\n",
              "\n",
              "    .dataframe tbody tr th {\n",
              "        vertical-align: top;\n",
              "    }\n",
              "\n",
              "    .dataframe thead th {\n",
              "        text-align: right;\n",
              "    }\n",
              "</style>\n",
              "<table border=\"1\" class=\"dataframe\">\n",
              "  <thead>\n",
              "    <tr style=\"text-align: right;\">\n",
              "      <th></th>\n",
              "      <th>Total</th>\n",
              "      <th>Percent</th>\n",
              "    </tr>\n",
              "  </thead>\n",
              "  <tbody>\n",
              "    <tr>\n",
              "      <th>attributed_time</th>\n",
              "      <td>99773</td>\n",
              "      <td>99.773</td>\n",
              "    </tr>\n",
              "    <tr>\n",
              "      <th>ip</th>\n",
              "      <td>0</td>\n",
              "      <td>0.000</td>\n",
              "    </tr>\n",
              "    <tr>\n",
              "      <th>app</th>\n",
              "      <td>0</td>\n",
              "      <td>0.000</td>\n",
              "    </tr>\n",
              "    <tr>\n",
              "      <th>device</th>\n",
              "      <td>0</td>\n",
              "      <td>0.000</td>\n",
              "    </tr>\n",
              "    <tr>\n",
              "      <th>os</th>\n",
              "      <td>0</td>\n",
              "      <td>0.000</td>\n",
              "    </tr>\n",
              "    <tr>\n",
              "      <th>channel</th>\n",
              "      <td>0</td>\n",
              "      <td>0.000</td>\n",
              "    </tr>\n",
              "    <tr>\n",
              "      <th>click_time</th>\n",
              "      <td>0</td>\n",
              "      <td>0.000</td>\n",
              "    </tr>\n",
              "    <tr>\n",
              "      <th>is_attributed</th>\n",
              "      <td>0</td>\n",
              "      <td>0.000</td>\n",
              "    </tr>\n",
              "  </tbody>\n",
              "</table>\n",
              "</div>\n",
              "      <button class=\"colab-df-convert\" onclick=\"convertToInteractive('df-8e372ece-a67b-4a0c-ab57-18627382a4c1')\"\n",
              "              title=\"Convert this dataframe to an interactive table.\"\n",
              "              style=\"display:none;\">\n",
              "        \n",
              "  <svg xmlns=\"http://www.w3.org/2000/svg\" height=\"24px\"viewBox=\"0 0 24 24\"\n",
              "       width=\"24px\">\n",
              "    <path d=\"M0 0h24v24H0V0z\" fill=\"none\"/>\n",
              "    <path d=\"M18.56 5.44l.94 2.06.94-2.06 2.06-.94-2.06-.94-.94-2.06-.94 2.06-2.06.94zm-11 1L8.5 8.5l.94-2.06 2.06-.94-2.06-.94L8.5 2.5l-.94 2.06-2.06.94zm10 10l.94 2.06.94-2.06 2.06-.94-2.06-.94-.94-2.06-.94 2.06-2.06.94z\"/><path d=\"M17.41 7.96l-1.37-1.37c-.4-.4-.92-.59-1.43-.59-.52 0-1.04.2-1.43.59L10.3 9.45l-7.72 7.72c-.78.78-.78 2.05 0 2.83L4 21.41c.39.39.9.59 1.41.59.51 0 1.02-.2 1.41-.59l7.78-7.78 2.81-2.81c.8-.78.8-2.07 0-2.86zM5.41 20L4 18.59l7.72-7.72 1.47 1.35L5.41 20z\"/>\n",
              "  </svg>\n",
              "      </button>\n",
              "      \n",
              "  <style>\n",
              "    .colab-df-container {\n",
              "      display:flex;\n",
              "      flex-wrap:wrap;\n",
              "      gap: 12px;\n",
              "    }\n",
              "\n",
              "    .colab-df-convert {\n",
              "      background-color: #E8F0FE;\n",
              "      border: none;\n",
              "      border-radius: 50%;\n",
              "      cursor: pointer;\n",
              "      display: none;\n",
              "      fill: #1967D2;\n",
              "      height: 32px;\n",
              "      padding: 0 0 0 0;\n",
              "      width: 32px;\n",
              "    }\n",
              "\n",
              "    .colab-df-convert:hover {\n",
              "      background-color: #E2EBFA;\n",
              "      box-shadow: 0px 1px 2px rgba(60, 64, 67, 0.3), 0px 1px 3px 1px rgba(60, 64, 67, 0.15);\n",
              "      fill: #174EA6;\n",
              "    }\n",
              "\n",
              "    [theme=dark] .colab-df-convert {\n",
              "      background-color: #3B4455;\n",
              "      fill: #D2E3FC;\n",
              "    }\n",
              "\n",
              "    [theme=dark] .colab-df-convert:hover {\n",
              "      background-color: #434B5C;\n",
              "      box-shadow: 0px 1px 3px 1px rgba(0, 0, 0, 0.15);\n",
              "      filter: drop-shadow(0px 1px 2px rgba(0, 0, 0, 0.3));\n",
              "      fill: #FFFFFF;\n",
              "    }\n",
              "  </style>\n",
              "\n",
              "      <script>\n",
              "        const buttonEl =\n",
              "          document.querySelector('#df-8e372ece-a67b-4a0c-ab57-18627382a4c1 button.colab-df-convert');\n",
              "        buttonEl.style.display =\n",
              "          google.colab.kernel.accessAllowed ? 'block' : 'none';\n",
              "\n",
              "        async function convertToInteractive(key) {\n",
              "          const element = document.querySelector('#df-8e372ece-a67b-4a0c-ab57-18627382a4c1');\n",
              "          const dataTable =\n",
              "            await google.colab.kernel.invokeFunction('convertToInteractive',\n",
              "                                                     [key], {});\n",
              "          if (!dataTable) return;\n",
              "\n",
              "          const docLinkHtml = 'Like what you see? Visit the ' +\n",
              "            '<a target=\"_blank\" href=https://colab.research.google.com/notebooks/data_table.ipynb>data table notebook</a>'\n",
              "            + ' to learn more about interactive tables.';\n",
              "          element.innerHTML = '';\n",
              "          dataTable['output_type'] = 'display_data';\n",
              "          await google.colab.output.renderOutput(dataTable, element);\n",
              "          const docLink = document.createElement('div');\n",
              "          docLink.innerHTML = docLinkHtml;\n",
              "          element.appendChild(docLink);\n",
              "        }\n",
              "      </script>\n",
              "    </div>\n",
              "  </div>\n",
              "  "
            ]
          },
          "metadata": {},
          "execution_count": 140
        }
      ],
      "source": [
        "missing_data(adfraud)"
      ]
    },
    {
      "cell_type": "code",
      "execution_count": null,
      "id": "c0d76e0f",
      "metadata": {
        "id": "c0d76e0f",
        "outputId": "91880aca-cc86-4130-d5ae-df4bb3bc512b",
        "colab": {
          "base_uri": "https://localhost:8080/",
          "height": 269
        }
      },
      "outputs": [
        {
          "output_type": "execute_result",
          "data": {
            "text/plain": [
              "            Total  Percent\n",
              "click_id        0      0.0\n",
              "ip              0      0.0\n",
              "app             0      0.0\n",
              "device          0      0.0\n",
              "os              0      0.0\n",
              "channel         0      0.0\n",
              "click_time      0      0.0"
            ],
            "text/html": [
              "\n",
              "  <div id=\"df-750c0035-29c0-41c7-8e94-9b6e881e9d3a\">\n",
              "    <div class=\"colab-df-container\">\n",
              "      <div>\n",
              "<style scoped>\n",
              "    .dataframe tbody tr th:only-of-type {\n",
              "        vertical-align: middle;\n",
              "    }\n",
              "\n",
              "    .dataframe tbody tr th {\n",
              "        vertical-align: top;\n",
              "    }\n",
              "\n",
              "    .dataframe thead th {\n",
              "        text-align: right;\n",
              "    }\n",
              "</style>\n",
              "<table border=\"1\" class=\"dataframe\">\n",
              "  <thead>\n",
              "    <tr style=\"text-align: right;\">\n",
              "      <th></th>\n",
              "      <th>Total</th>\n",
              "      <th>Percent</th>\n",
              "    </tr>\n",
              "  </thead>\n",
              "  <tbody>\n",
              "    <tr>\n",
              "      <th>click_id</th>\n",
              "      <td>0</td>\n",
              "      <td>0.0</td>\n",
              "    </tr>\n",
              "    <tr>\n",
              "      <th>ip</th>\n",
              "      <td>0</td>\n",
              "      <td>0.0</td>\n",
              "    </tr>\n",
              "    <tr>\n",
              "      <th>app</th>\n",
              "      <td>0</td>\n",
              "      <td>0.0</td>\n",
              "    </tr>\n",
              "    <tr>\n",
              "      <th>device</th>\n",
              "      <td>0</td>\n",
              "      <td>0.0</td>\n",
              "    </tr>\n",
              "    <tr>\n",
              "      <th>os</th>\n",
              "      <td>0</td>\n",
              "      <td>0.0</td>\n",
              "    </tr>\n",
              "    <tr>\n",
              "      <th>channel</th>\n",
              "      <td>0</td>\n",
              "      <td>0.0</td>\n",
              "    </tr>\n",
              "    <tr>\n",
              "      <th>click_time</th>\n",
              "      <td>0</td>\n",
              "      <td>0.0</td>\n",
              "    </tr>\n",
              "  </tbody>\n",
              "</table>\n",
              "</div>\n",
              "      <button class=\"colab-df-convert\" onclick=\"convertToInteractive('df-750c0035-29c0-41c7-8e94-9b6e881e9d3a')\"\n",
              "              title=\"Convert this dataframe to an interactive table.\"\n",
              "              style=\"display:none;\">\n",
              "        \n",
              "  <svg xmlns=\"http://www.w3.org/2000/svg\" height=\"24px\"viewBox=\"0 0 24 24\"\n",
              "       width=\"24px\">\n",
              "    <path d=\"M0 0h24v24H0V0z\" fill=\"none\"/>\n",
              "    <path d=\"M18.56 5.44l.94 2.06.94-2.06 2.06-.94-2.06-.94-.94-2.06-.94 2.06-2.06.94zm-11 1L8.5 8.5l.94-2.06 2.06-.94-2.06-.94L8.5 2.5l-.94 2.06-2.06.94zm10 10l.94 2.06.94-2.06 2.06-.94-2.06-.94-.94-2.06-.94 2.06-2.06.94z\"/><path d=\"M17.41 7.96l-1.37-1.37c-.4-.4-.92-.59-1.43-.59-.52 0-1.04.2-1.43.59L10.3 9.45l-7.72 7.72c-.78.78-.78 2.05 0 2.83L4 21.41c.39.39.9.59 1.41.59.51 0 1.02-.2 1.41-.59l7.78-7.78 2.81-2.81c.8-.78.8-2.07 0-2.86zM5.41 20L4 18.59l7.72-7.72 1.47 1.35L5.41 20z\"/>\n",
              "  </svg>\n",
              "      </button>\n",
              "      \n",
              "  <style>\n",
              "    .colab-df-container {\n",
              "      display:flex;\n",
              "      flex-wrap:wrap;\n",
              "      gap: 12px;\n",
              "    }\n",
              "\n",
              "    .colab-df-convert {\n",
              "      background-color: #E8F0FE;\n",
              "      border: none;\n",
              "      border-radius: 50%;\n",
              "      cursor: pointer;\n",
              "      display: none;\n",
              "      fill: #1967D2;\n",
              "      height: 32px;\n",
              "      padding: 0 0 0 0;\n",
              "      width: 32px;\n",
              "    }\n",
              "\n",
              "    .colab-df-convert:hover {\n",
              "      background-color: #E2EBFA;\n",
              "      box-shadow: 0px 1px 2px rgba(60, 64, 67, 0.3), 0px 1px 3px 1px rgba(60, 64, 67, 0.15);\n",
              "      fill: #174EA6;\n",
              "    }\n",
              "\n",
              "    [theme=dark] .colab-df-convert {\n",
              "      background-color: #3B4455;\n",
              "      fill: #D2E3FC;\n",
              "    }\n",
              "\n",
              "    [theme=dark] .colab-df-convert:hover {\n",
              "      background-color: #434B5C;\n",
              "      box-shadow: 0px 1px 3px 1px rgba(0, 0, 0, 0.15);\n",
              "      filter: drop-shadow(0px 1px 2px rgba(0, 0, 0, 0.3));\n",
              "      fill: #FFFFFF;\n",
              "    }\n",
              "  </style>\n",
              "\n",
              "      <script>\n",
              "        const buttonEl =\n",
              "          document.querySelector('#df-750c0035-29c0-41c7-8e94-9b6e881e9d3a button.colab-df-convert');\n",
              "        buttonEl.style.display =\n",
              "          google.colab.kernel.accessAllowed ? 'block' : 'none';\n",
              "\n",
              "        async function convertToInteractive(key) {\n",
              "          const element = document.querySelector('#df-750c0035-29c0-41c7-8e94-9b6e881e9d3a');\n",
              "          const dataTable =\n",
              "            await google.colab.kernel.invokeFunction('convertToInteractive',\n",
              "                                                     [key], {});\n",
              "          if (!dataTable) return;\n",
              "\n",
              "          const docLinkHtml = 'Like what you see? Visit the ' +\n",
              "            '<a target=\"_blank\" href=https://colab.research.google.com/notebooks/data_table.ipynb>data table notebook</a>'\n",
              "            + ' to learn more about interactive tables.';\n",
              "          element.innerHTML = '';\n",
              "          dataTable['output_type'] = 'display_data';\n",
              "          await google.colab.output.renderOutput(dataTable, element);\n",
              "          const docLink = document.createElement('div');\n",
              "          docLink.innerHTML = docLinkHtml;\n",
              "          element.appendChild(docLink);\n",
              "        }\n",
              "      </script>\n",
              "    </div>\n",
              "  </div>\n",
              "  "
            ]
          },
          "metadata": {},
          "execution_count": 141
        }
      ],
      "source": [
        "missing_data(adfraud_test)"
      ]
    },
    {
      "cell_type": "markdown",
      "id": "adc4eab0",
      "metadata": {
        "id": "adc4eab0"
      },
      "source": [
        "**Imbalanced Data**"
      ]
    },
    {
      "cell_type": "code",
      "execution_count": null,
      "id": "12f4345a",
      "metadata": {
        "id": "12f4345a",
        "outputId": "1ba5f0fc-7f69-486d-e86b-8ddd00bb1ebc",
        "colab": {
          "base_uri": "https://localhost:8080/",
          "height": 411
        }
      },
      "outputs": [
        {
          "output_type": "display_data",
          "data": {
            "text/plain": [
              "<Figure size 432x288 with 0 Axes>"
            ]
          },
          "metadata": {}
        },
        {
          "output_type": "display_data",
          "data": {
            "text/plain": [
              "<Figure size 432x432 with 1 Axes>"
            ],
            "image/png": "[encoded data removed]"
          },
          "metadata": {}
        }
      ],
      "source": [
        "plt.figure()\n",
        "fig, ax = plt.subplots(figsize=(6,6))\n",
        "x = adfraud['is_attributed'].value_counts().index.values\n",
        "y = adfraud[\"is_attributed\"].value_counts().values\n",
        "# Bar plot\n",
        "# Order the bars descending on target mean\n",
        "sns.barplot(ax=ax, x=x, y=y)\n",
        "plt.ylabel('Number of values', fontsize=12)\n",
        "plt.xlabel('is_attributed value', fontsize=12)\n",
        "plt.tick_params(axis='both', which='major', labelsize=12)\n",
        "plt.show();"
      ]
    },
    {
      "cell_type": "markdown",
      "id": "4f7b7b8a",
      "metadata": {
        "id": "4f7b7b8a"
      },
      "source": [
        "Since the dataset is highly imbalanced, it is recommend to do undersampling.\n",
        "\n",
        "Classes:\n",
        "\n",
        "0- User will not download an app after clicking a mobile app advertisement\n",
        "\n",
        "1- User will download an app after clicking a mobile app advertisement"
      ]
    },
    {
      "cell_type": "markdown",
      "id": "5f341fce",
      "metadata": {
        "id": "5f341fce"
      },
      "source": [
        "**Feature Engineering**"
      ]
    },
    {
      "cell_type": "code",
      "execution_count": null,
      "id": "6d0282ee",
      "metadata": {
        "id": "6d0282ee",
        "outputId": "97417fab-5645-4a51-f105-0f92c50948fa",
        "colab": {
          "base_uri": "https://localhost:8080/",
          "height": 206
        }
      },
      "outputs": [
        {
          "output_type": "execute_result",
          "data": {
            "text/plain": [
              "       ip  app  device  os  channel          click_time attributed_time  \\\n",
              "0   87540   12       1  13      497 2017-11-07 09:30:38             NaT   \n",
              "1  105560   25       1  17      259 2017-11-07 13:40:27             NaT   \n",
              "2  101424   12       1  19      212 2017-11-07 18:05:24             NaT   \n",
              "3   94584   13       1  13      477 2017-11-07 04:58:08             NaT   \n",
              "4   68413   12       1   1      178 2017-11-09 09:00:09             NaT   \n",
              "\n",
              "   is_attributed  year  month  day  hour  min  sec  \n",
              "0              0  2017     11    7     9   30   38  \n",
              "1              0  2017     11    7    13   40   27  \n",
              "2              0  2017     11    7    18    5   24  \n",
              "3              0  2017     11    7     4   58    8  \n",
              "4              0  2017     11    9     9    0    9  "
            ],
            "text/html": [
              "\n",
              "  <div id=\"df-2ef87302-cedf-42c4-b1b0-e4391e8b6dba\">\n",
              "    <div class=\"colab-df-container\">\n",
              "      <div>\n",
              "<style scoped>\n",
              "    .dataframe tbody tr th:only-of-type {\n",
              "        vertical-align: middle;\n",
              "    }\n",
              "\n",
              "    .dataframe tbody tr th {\n",
              "        vertical-align: top;\n",
              "    }\n",
              "\n",
              "    .dataframe thead th {\n",
              "        text-align: right;\n",
              "    }\n",
              "</style>\n",
              "<table border=\"1\" class=\"dataframe\">\n",
              "  <thead>\n",
              "    <tr style=\"text-align: right;\">\n",
              "      <th></th>\n",
              "      <th>ip</th>\n",
              "      <th>app</th>\n",
              "      <th>device</th>\n",
              "      <th>os</th>\n",
              "      <th>channel</th>\n",
              "      <th>click_time</th>\n",
              "      <th>attributed_time</th>\n",
              "      <th>is_attributed</th>\n",
              "      <th>year</th>\n",
              "      <th>month</th>\n",
              "      <th>day</th>\n",
              "      <th>hour</th>\n",
              "      <th>min</th>\n",
              "      <th>sec</th>\n",
              "    </tr>\n",
              "  </thead>\n",
              "  <tbody>\n",
              "    <tr>\n",
              "      <th>0</th>\n",
              "      <td>87540</td>\n",
              "      <td>12</td>\n",
              "      <td>1</td>\n",
              "      <td>13</td>\n",
              "      <td>497</td>\n",
              "      <td>2017-11-07 09:30:38</td>\n",
              "      <td>NaT</td>\n",
              "      <td>0</td>\n",
              "      <td>2017</td>\n",
              "      <td>11</td>\n",
              "      <td>7</td>\n",
              "      <td>9</td>\n",
              "      <td>30</td>\n",
              "      <td>38</td>\n",
              "    </tr>\n",
              "    <tr>\n",
              "      <th>1</th>\n",
              "      <td>105560</td>\n",
              "      <td>25</td>\n",
              "      <td>1</td>\n",
              "      <td>17</td>\n",
              "      <td>259</td>\n",
              "      <td>2017-11-07 13:40:27</td>\n",
              "      <td>NaT</td>\n",
              "      <td>0</td>\n",
              "      <td>2017</td>\n",
              "      <td>11</td>\n",
              "      <td>7</td>\n",
              "      <td>13</td>\n",
              "      <td>40</td>\n",
              "      <td>27</td>\n",
              "    </tr>\n",
              "    <tr>\n",
              "      <th>2</th>\n",
              "      <td>101424</td>\n",
              "      <td>12</td>\n",
              "      <td>1</td>\n",
              "      <td>19</td>\n",
              "      <td>212</td>\n",
              "      <td>2017-11-07 18:05:24</td>\n",
              "      <td>NaT</td>\n",
              "      <td>0</td>\n",
              "      <td>2017</td>\n",
              "      <td>11</td>\n",
              "      <td>7</td>\n",
              "      <td>18</td>\n",
              "      <td>5</td>\n",
              "      <td>24</td>\n",
              "    </tr>\n",
              "    <tr>\n",
              "      <th>3</th>\n",
              "      <td>94584</td>\n",
              "      <td>13</td>\n",
              "      <td>1</td>\n",
              "      <td>13</td>\n",
              "      <td>477</td>\n",
              "      <td>2017-11-07 04:58:08</td>\n",
              "      <td>NaT</td>\n",
              "      <td>0</td>\n",
              "      <td>2017</td>\n",
              "      <td>11</td>\n",
              "      <td>7</td>\n",
              "      <td>4</td>\n",
              "      <td>58</td>\n",
              "      <td>8</td>\n",
              "    </tr>\n",
              "    <tr>\n",
              "      <th>4</th>\n",
              "      <td>68413</td>\n",
              "      <td>12</td>\n",
              "      <td>1</td>\n",
              "      <td>1</td>\n",
              "      <td>178</td>\n",
              "      <td>2017-11-09 09:00:09</td>\n",
              "      <td>NaT</td>\n",
              "      <td>0</td>\n",
              "      <td>2017</td>\n",
              "      <td>11</td>\n",
              "      <td>9</td>\n",
              "      <td>9</td>\n",
              "      <td>0</td>\n",
              "      <td>9</td>\n",
              "    </tr>\n",
              "  </tbody>\n",
              "</table>\n",
              "</div>\n",
              "      <button class=\"colab-df-convert\" onclick=\"convertToInteractive('df-2ef87302-cedf-42c4-b1b0-e4391e8b6dba')\"\n",
              "              title=\"Convert this dataframe to an interactive table.\"\n",
              "              style=\"display:none;\">\n",
              "        \n",
              "  <svg xmlns=\"http://www.w3.org/2000/svg\" height=\"24px\"viewBox=\"0 0 24 24\"\n",
              "       width=\"24px\">\n",
              "    <path d=\"M0 0h24v24H0V0z\" fill=\"none\"/>\n",
              "    <path d=\"M18.56 5.44l.94 2.06.94-2.06 2.06-.94-2.06-.94-.94-2.06-.94 2.06-2.06.94zm-11 1L8.5 8.5l.94-2.06 2.06-.94-2.06-.94L8.5 2.5l-.94 2.06-2.06.94zm10 10l.94 2.06.94-2.06 2.06-.94-2.06-.94-.94-2.06-.94 2.06-2.06.94z\"/><path d=\"M17.41 7.96l-1.37-1.37c-.4-.4-.92-.59-1.43-.59-.52 0-1.04.2-1.43.59L10.3 9.45l-7.72 7.72c-.78.78-.78 2.05 0 2.83L4 21.41c.39.39.9.59 1.41.59.51 0 1.02-.2 1.41-.59l7.78-7.78 2.81-2.81c.8-.78.8-2.07 0-2.86zM5.41 20L4 18.59l7.72-7.72 1.47 1.35L5.41 20z\"/>\n",
              "  </svg>\n",
              "      </button>\n",
              "      \n",
              "  <style>\n",
              "    .colab-df-container {\n",
              "      display:flex;\n",
              "      flex-wrap:wrap;\n",
              "      gap: 12px;\n",
              "    }\n",
              "\n",
              "    .colab-df-convert {\n",
              "      background-color: #E8F0FE;\n",
              "      border: none;\n",
              "      border-radius: 50%;\n",
              "      cursor: pointer;\n",
              "      display: none;\n",
              "      fill: #1967D2;\n",
              "      height: 32px;\n",
              "      padding: 0 0 0 0;\n",
              "      width: 32px;\n",
              "    }\n",
              "\n",
              "    .colab-df-convert:hover {\n",
              "      background-color: #E2EBFA;\n",
              "      box-shadow: 0px 1px 2px rgba(60, 64, 67, 0.3), 0px 1px 3px 1px rgba(60, 64, 67, 0.15);\n",
              "      fill: #174EA6;\n",
              "    }\n",
              "\n",
              "    [theme=dark] .colab-df-convert {\n",
              "      background-color: #3B4455;\n",
              "      fill: #D2E3FC;\n",
              "    }\n",
              "\n",
              "    [theme=dark] .colab-df-convert:hover {\n",
              "      background-color: #434B5C;\n",
              "      box-shadow: 0px 1px 3px 1px rgba(0, 0, 0, 0.15);\n",
              "      filter: drop-shadow(0px 1px 2px rgba(0, 0, 0, 0.3));\n",
              "      fill: #FFFFFF;\n",
              "    }\n",
              "  </style>\n",
              "\n",
              "      <script>\n",
              "        const buttonEl =\n",
              "          document.querySelector('#df-2ef87302-cedf-42c4-b1b0-e4391e8b6dba button.colab-df-convert');\n",
              "        buttonEl.style.display =\n",
              "          google.colab.kernel.accessAllowed ? 'block' : 'none';\n",
              "\n",
              "        async function convertToInteractive(key) {\n",
              "          const element = document.querySelector('#df-2ef87302-cedf-42c4-b1b0-e4391e8b6dba');\n",
              "          const dataTable =\n",
              "            await google.colab.kernel.invokeFunction('convertToInteractive',\n",
              "                                                     [key], {});\n",
              "          if (!dataTable) return;\n",
              "\n",
              "          const docLinkHtml = 'Like what you see? Visit the ' +\n",
              "            '<a target=\"_blank\" href=https://colab.research.google.com/notebooks/data_table.ipynb>data table notebook</a>'\n",
              "            + ' to learn more about interactive tables.';\n",
              "          element.innerHTML = '';\n",
              "          dataTable['output_type'] = 'display_data';\n",
              "          await google.colab.output.renderOutput(dataTable, element);\n",
              "          const docLink = document.createElement('div');\n",
              "          docLink.innerHTML = docLinkHtml;\n",
              "          element.appendChild(docLink);\n",
              "        }\n",
              "      </script>\n",
              "    </div>\n",
              "  </div>\n",
              "  "
            ]
          },
          "metadata": {},
          "execution_count": 143
        }
      ],
      "source": [
        "#adding date and time data\n",
        "\n",
        "adfraud['year'] = pd.to_datetime(adfraud.click_time).dt.year\n",
        "adfraud['month'] = pd.to_datetime(adfraud.click_time).dt.month\n",
        "adfraud['day'] = pd.to_datetime(adfraud.click_time).dt.day\n",
        "adfraud['hour'] = pd.to_datetime(adfraud.click_time).dt.hour\n",
        "adfraud['min'] = pd.to_datetime(adfraud.click_time).dt.minute\n",
        "adfraud['sec'] = pd.to_datetime(adfraud.click_time).dt.second\n",
        "adfraud.head()"
      ]
    },
    {
      "cell_type": "code",
      "execution_count": null,
      "id": "2b69bccb",
      "metadata": {
        "id": "2b69bccb",
        "outputId": "0fe9654d-9598-427f-decc-cf46ab81f509",
        "colab": {
          "base_uri": "https://localhost:8080/",
          "height": 1000
        }
      },
      "outputs": [
        {
          "output_type": "display_data",
          "data": {
            "text/plain": [
              "<Figure size 1440x1440 with 16 Axes>"
            ],
            "image/png": "[encoded data removed]"
          },
          "metadata": {}
        }
      ],
      "source": [
        "p = adfraud.hist(figsize = (20,20))"
      ]
    },
    {
      "cell_type": "markdown",
      "id": "e5b09247",
      "metadata": {
        "id": "e5b09247"
      },
      "source": [
        "**Checking Time Patterns**"
      ]
    },
    {
      "cell_type": "code",
      "execution_count": null,
      "id": "3d72d9bb",
      "metadata": {
        "id": "3d72d9bb",
        "outputId": "dc3e091f-8c0a-43b2-9ec2-b194210ed3b8",
        "colab": {
          "base_uri": "https://localhost:8080/",
          "height": 295
        }
      },
      "outputs": [
        {
          "output_type": "display_data",
          "data": {
            "text/plain": [
              "<Figure size 432x288 with 1 Axes>"
            ],
            "image/png": "[encoded data removed]"
          },
          "metadata": {}
        }
      ],
      "source": [
        "adfraud[['hour','is_attributed']].groupby(['hour'], as_index=True).count().plot()\n",
        "plt.title('HOURLY CLICK FREQUENCY');\n",
        "plt.ylabel('Number of Clicks');"
      ]
    },
    {
      "cell_type": "code",
      "execution_count": null,
      "id": "0736ecd8",
      "metadata": {
        "id": "0736ecd8",
        "outputId": "0453ae8d-a9f4-4b65-dc24-6eda8aac797f",
        "colab": {
          "base_uri": "https://localhost:8080/",
          "height": 461
        }
      },
      "outputs": [
        {
          "output_type": "stream",
          "name": "stderr",
          "text": [
            "/usr/local/lib/python3.7/dist-packages/seaborn/distributions.py:1699: FutureWarning: The `bw` parameter is deprecated in favor of `bw_method` and `bw_adjust`. Using 0.5 for `bw_method`, but please see the docs for the new parameters and update your code.\n",
            "  warnings.warn(msg, FutureWarning)\n",
            "/usr/local/lib/python3.7/dist-packages/seaborn/distributions.py:1699: FutureWarning: The `bw` parameter is deprecated in favor of `bw_method` and `bw_adjust`. Using 0.5 for `bw_method`, but please see the docs for the new parameters and update your code.\n",
            "  warnings.warn(msg, FutureWarning)\n",
            "/usr/local/lib/python3.7/dist-packages/seaborn/distributions.py:1699: FutureWarning: The `bw` parameter is deprecated in favor of `bw_method` and `bw_adjust`. Using 0.5 for `bw_method`, but please see the docs for the new parameters and update your code.\n",
            "  warnings.warn(msg, FutureWarning)\n",
            "/usr/local/lib/python3.7/dist-packages/seaborn/distributions.py:1699: FutureWarning: The `bw` parameter is deprecated in favor of `bw_method` and `bw_adjust`. Using 0.5 for `bw_method`, but please see the docs for the new parameters and update your code.\n",
            "  warnings.warn(msg, FutureWarning)\n"
          ]
        },
        {
          "output_type": "display_data",
          "data": {
            "text/plain": [
              "<Figure size 432x288 with 0 Axes>"
            ]
          },
          "metadata": {}
        },
        {
          "output_type": "display_data",
          "data": {
            "text/plain": [
              "<Figure size 864x288 with 2 Axes>"
            ],
            "image/png": "[encoded data removed]"
          },
          "metadata": {}
        }
      ],
      "source": [
        "var = ['day','hour']\n",
        "\n",
        "i = 0\n",
        "t1 = adfraud.loc[adfraud['is_attributed'] != 0]\n",
        "t0 = adfraud.loc[adfraud['is_attributed'] == 0]\n",
        "\n",
        "sns.set_style('whitegrid')\n",
        "plt.figure()\n",
        "fig, ax = plt.subplots(1,2,figsize=(12,4))\n",
        "\n",
        "for feature in var:\n",
        "    i += 1\n",
        "    plt.subplot(1,2,i)\n",
        "    sns.kdeplot(t1[feature], bw=0.5,label=\"is_attributed = 1\")\n",
        "    sns.kdeplot(t0[feature], bw=0.5,label=\"is_attributed = 0\")\n",
        "    plt.ylabel('Density plot', fontsize=12)\n",
        "    plt.xlabel(feature, fontsize=12)\n",
        "    locs, labels = plt.xticks()\n",
        "    plt.tick_params(axis='both', which='major', labelsize=12)\n",
        "plt.show();"
      ]
    },
    {
      "cell_type": "markdown",
      "source": [
        "Modeling"
      ],
      "metadata": {
        "id": "55pXWuHpZt4y"
      },
      "id": "55pXWuHpZt4y"
    },
    {
      "cell_type": "code",
      "execution_count": null,
      "id": "ff2c15c5",
      "metadata": {
        "id": "ff2c15c5",
        "colab": {
          "base_uri": "https://localhost:8080/"
        },
        "outputId": "0b34b3d0-085f-4f51-f649-ed497e111e35"
      },
      "outputs": [
        {
          "output_type": "execute_result",
          "data": {
            "text/plain": [
              "0    99773\n",
              "1      227\n",
              "Name: is_attributed, dtype: int64"
            ]
          },
          "metadata": {},
          "execution_count": 147
        }
      ],
      "source": [
        "adfraud['is_attributed'].value_counts()"
      ]
    },
    {
      "cell_type": "markdown",
      "source": [
        "Label Encoding"
      ],
      "metadata": {
        "id": "SgBtfaeSl9Ma"
      },
      "id": "SgBtfaeSl9Ma"
    },
    {
      "cell_type": "code",
      "source": [
        "from sklearn import preprocessing\n",
        "\n",
        "cat_features = ['ip', 'app', 'device', 'os', 'channel']\n",
        "lable_encoder = preprocessing.LabelEncoder()\n",
        "\n",
        "for feature in cat_features:\n",
        "    encoded = lable_encoder.fit_transform(adfraud[feature])\n",
        "    adfraud[feature +'_labels'] = encoded"
      ],
      "metadata": {
        "id": "92ZOrUPRl418"
      },
      "id": "92ZOrUPRl418",
      "execution_count": null,
      "outputs": []
    },
    {
      "cell_type": "code",
      "source": [
        "adfraud.head()"
      ],
      "metadata": {
        "colab": {
          "base_uri": "https://localhost:8080/",
          "height": 206
        },
        "id": "kyiTJ2l8mUDc",
        "outputId": "f10f7cf9-6f99-4a0a-e891-aa599132e7fd"
      },
      "id": "kyiTJ2l8mUDc",
      "execution_count": null,
      "outputs": [
        {
          "output_type": "execute_result",
          "data": {
            "text/plain": [
              "       ip  app  device  os  channel          click_time attributed_time  \\\n",
              "0   87540   12       1  13      497 2017-11-07 09:30:38             NaT   \n",
              "1  105560   25       1  17      259 2017-11-07 13:40:27             NaT   \n",
              "2  101424   12       1  19      212 2017-11-07 18:05:24             NaT   \n",
              "3   94584   13       1  13      477 2017-11-07 04:58:08             NaT   \n",
              "4   68413   12       1   1      178 2017-11-09 09:00:09             NaT   \n",
              "\n",
              "   is_attributed  year  month  day  hour  min  sec  ip_labels  app_labels  \\\n",
              "0              0  2017     11    7     9   30   38      15220          11   \n",
              "1              0  2017     11    7    13   40   27      18448          24   \n",
              "2              0  2017     11    7    18    5   24      17663          11   \n",
              "3              0  2017     11    7     4   58    8      16496          12   \n",
              "4              0  2017     11    9     9    0    9      11852          11   \n",
              "\n",
              "   device_labels  os_labels  channel_labels  \n",
              "0              1         13             159  \n",
              "1              1         17              67  \n",
              "2              1         19              52  \n",
              "3              1         13             146  \n",
              "4              1          1              45  "
            ],
            "text/html": [
              "\n",
              "  <div id=\"df-43fc392b-7072-418d-a209-7c64f13e567e\">\n",
              "    <div class=\"colab-df-container\">\n",
              "      <div>\n",
              "<style scoped>\n",
              "    .dataframe tbody tr th:only-of-type {\n",
              "        vertical-align: middle;\n",
              "    }\n",
              "\n",
              "    .dataframe tbody tr th {\n",
              "        vertical-align: top;\n",
              "    }\n",
              "\n",
              "    .dataframe thead th {\n",
              "        text-align: right;\n",
              "    }\n",
              "</style>\n",
              "<table border=\"1\" class=\"dataframe\">\n",
              "  <thead>\n",
              "    <tr style=\"text-align: right;\">\n",
              "      <th></th>\n",
              "      <th>ip</th>\n",
              "      <th>app</th>\n",
              "      <th>device</th>\n",
              "      <th>os</th>\n",
              "      <th>channel</th>\n",
              "      <th>click_time</th>\n",
              "      <th>attributed_time</th>\n",
              "      <th>is_attributed</th>\n",
              "      <th>year</th>\n",
              "      <th>month</th>\n",
              "      <th>day</th>\n",
              "      <th>hour</th>\n",
              "      <th>min</th>\n",
              "      <th>sec</th>\n",
              "      <th>ip_labels</th>\n",
              "      <th>app_labels</th>\n",
              "      <th>device_labels</th>\n",
              "      <th>os_labels</th>\n",
              "      <th>channel_labels</th>\n",
              "    </tr>\n",
              "  </thead>\n",
              "  <tbody>\n",
              "    <tr>\n",
              "      <th>0</th>\n",
              "      <td>87540</td>\n",
              "      <td>12</td>\n",
              "      <td>1</td>\n",
              "      <td>13</td>\n",
              "      <td>497</td>\n",
              "      <td>2017-11-07 09:30:38</td>\n",
              "      <td>NaT</td>\n",
              "      <td>0</td>\n",
              "      <td>2017</td>\n",
              "      <td>11</td>\n",
              "      <td>7</td>\n",
              "      <td>9</td>\n",
              "      <td>30</td>\n",
              "      <td>38</td>\n",
              "      <td>15220</td>\n",
              "      <td>11</td>\n",
              "      <td>1</td>\n",
              "      <td>13</td>\n",
              "      <td>159</td>\n",
              "    </tr>\n",
              "    <tr>\n",
              "      <th>1</th>\n",
              "      <td>105560</td>\n",
              "      <td>25</td>\n",
              "      <td>1</td>\n",
              "      <td>17</td>\n",
              "      <td>259</td>\n",
              "      <td>2017-11-07 13:40:27</td>\n",
              "      <td>NaT</td>\n",
              "      <td>0</td>\n",
              "      <td>2017</td>\n",
              "      <td>11</td>\n",
              "      <td>7</td>\n",
              "      <td>13</td>\n",
              "      <td>40</td>\n",
              "      <td>27</td>\n",
              "      <td>18448</td>\n",
              "      <td>24</td>\n",
              "      <td>1</td>\n",
              "      <td>17</td>\n",
              "      <td>67</td>\n",
              "    </tr>\n",
              "    <tr>\n",
              "      <th>2</th>\n",
              "      <td>101424</td>\n",
              "      <td>12</td>\n",
              "      <td>1</td>\n",
              "      <td>19</td>\n",
              "      <td>212</td>\n",
              "      <td>2017-11-07 18:05:24</td>\n",
              "      <td>NaT</td>\n",
              "      <td>0</td>\n",
              "      <td>2017</td>\n",
              "      <td>11</td>\n",
              "      <td>7</td>\n",
              "      <td>18</td>\n",
              "      <td>5</td>\n",
              "      <td>24</td>\n",
              "      <td>17663</td>\n",
              "      <td>11</td>\n",
              "      <td>1</td>\n",
              "      <td>19</td>\n",
              "      <td>52</td>\n",
              "    </tr>\n",
              "    <tr>\n",
              "      <th>3</th>\n",
              "      <td>94584</td>\n",
              "      <td>13</td>\n",
              "      <td>1</td>\n",
              "      <td>13</td>\n",
              "      <td>477</td>\n",
              "      <td>2017-11-07 04:58:08</td>\n",
              "      <td>NaT</td>\n",
              "      <td>0</td>\n",
              "      <td>2017</td>\n",
              "      <td>11</td>\n",
              "      <td>7</td>\n",
              "      <td>4</td>\n",
              "      <td>58</td>\n",
              "      <td>8</td>\n",
              "      <td>16496</td>\n",
              "      <td>12</td>\n",
              "      <td>1</td>\n",
              "      <td>13</td>\n",
              "      <td>146</td>\n",
              "    </tr>\n",
              "    <tr>\n",
              "      <th>4</th>\n",
              "      <td>68413</td>\n",
              "      <td>12</td>\n",
              "      <td>1</td>\n",
              "      <td>1</td>\n",
              "      <td>178</td>\n",
              "      <td>2017-11-09 09:00:09</td>\n",
              "      <td>NaT</td>\n",
              "      <td>0</td>\n",
              "      <td>2017</td>\n",
              "      <td>11</td>\n",
              "      <td>9</td>\n",
              "      <td>9</td>\n",
              "      <td>0</td>\n",
              "      <td>9</td>\n",
              "      <td>11852</td>\n",
              "      <td>11</td>\n",
              "      <td>1</td>\n",
              "      <td>1</td>\n",
              "      <td>45</td>\n",
              "    </tr>\n",
              "  </tbody>\n",
              "</table>\n",
              "</div>\n",
              "      <button class=\"colab-df-convert\" onclick=\"convertToInteractive('df-43fc392b-7072-418d-a209-7c64f13e567e')\"\n",
              "              title=\"Convert this dataframe to an interactive table.\"\n",
              "              style=\"display:none;\">\n",
              "        \n",
              "  <svg xmlns=\"http://www.w3.org/2000/svg\" height=\"24px\"viewBox=\"0 0 24 24\"\n",
              "       width=\"24px\">\n",
              "    <path d=\"M0 0h24v24H0V0z\" fill=\"none\"/>\n",
              "    <path d=\"M18.56 5.44l.94 2.06.94-2.06 2.06-.94-2.06-.94-.94-2.06-.94 2.06-2.06.94zm-11 1L8.5 8.5l.94-2.06 2.06-.94-2.06-.94L8.5 2.5l-.94 2.06-2.06.94zm10 10l.94 2.06.94-2.06 2.06-.94-2.06-.94-.94-2.06-.94 2.06-2.06.94z\"/><path d=\"M17.41 7.96l-1.37-1.37c-.4-.4-.92-.59-1.43-.59-.52 0-1.04.2-1.43.59L10.3 9.45l-7.72 7.72c-.78.78-.78 2.05 0 2.83L4 21.41c.39.39.9.59 1.41.59.51 0 1.02-.2 1.41-.59l7.78-7.78 2.81-2.81c.8-.78.8-2.07 0-2.86zM5.41 20L4 18.59l7.72-7.72 1.47 1.35L5.41 20z\"/>\n",
              "  </svg>\n",
              "      </button>\n",
              "      \n",
              "  <style>\n",
              "    .colab-df-container {\n",
              "      display:flex;\n",
              "      flex-wrap:wrap;\n",
              "      gap: 12px;\n",
              "    }\n",
              "\n",
              "    .colab-df-convert {\n",
              "      background-color: #E8F0FE;\n",
              "      border: none;\n",
              "      border-radius: 50%;\n",
              "      cursor: pointer;\n",
              "      display: none;\n",
              "      fill: #1967D2;\n",
              "      height: 32px;\n",
              "      padding: 0 0 0 0;\n",
              "      width: 32px;\n",
              "    }\n",
              "\n",
              "    .colab-df-convert:hover {\n",
              "      background-color: #E2EBFA;\n",
              "      box-shadow: 0px 1px 2px rgba(60, 64, 67, 0.3), 0px 1px 3px 1px rgba(60, 64, 67, 0.15);\n",
              "      fill: #174EA6;\n",
              "    }\n",
              "\n",
              "    [theme=dark] .colab-df-convert {\n",
              "      background-color: #3B4455;\n",
              "      fill: #D2E3FC;\n",
              "    }\n",
              "\n",
              "    [theme=dark] .colab-df-convert:hover {\n",
              "      background-color: #434B5C;\n",
              "      box-shadow: 0px 1px 3px 1px rgba(0, 0, 0, 0.15);\n",
              "      filter: drop-shadow(0px 1px 2px rgba(0, 0, 0, 0.3));\n",
              "      fill: #FFFFFF;\n",
              "    }\n",
              "  </style>\n",
              "\n",
              "      <script>\n",
              "        const buttonEl =\n",
              "          document.querySelector('#df-43fc392b-7072-418d-a209-7c64f13e567e button.colab-df-convert');\n",
              "        buttonEl.style.display =\n",
              "          google.colab.kernel.accessAllowed ? 'block' : 'none';\n",
              "\n",
              "        async function convertToInteractive(key) {\n",
              "          const element = document.querySelector('#df-43fc392b-7072-418d-a209-7c64f13e567e');\n",
              "          const dataTable =\n",
              "            await google.colab.kernel.invokeFunction('convertToInteractive',\n",
              "                                                     [key], {});\n",
              "          if (!dataTable) return;\n",
              "\n",
              "          const docLinkHtml = 'Like what you see? Visit the ' +\n",
              "            '<a target=\"_blank\" href=https://colab.research.google.com/notebooks/data_table.ipynb>data table notebook</a>'\n",
              "            + ' to learn more about interactive tables.';\n",
              "          element.innerHTML = '';\n",
              "          dataTable['output_type'] = 'display_data';\n",
              "          await google.colab.output.renderOutput(dataTable, element);\n",
              "          const docLink = document.createElement('div');\n",
              "          docLink.innerHTML = docLinkHtml;\n",
              "          element.appendChild(docLink);\n",
              "        }\n",
              "      </script>\n",
              "    </div>\n",
              "  </div>\n",
              "  "
            ]
          },
          "metadata": {},
          "execution_count": 165
        }
      ]
    },
    {
      "cell_type": "code",
      "source": [
        "feature_cols = ['day', 'hour', 'min', 'sec', \n",
        "                'ip_labels', 'app_labels', 'device_labels',\n",
        "                'os_labels', 'channel_labels']"
      ],
      "metadata": {
        "id": "4l44pR26md8d"
      },
      "id": "4l44pR26md8d",
      "execution_count": null,
      "outputs": []
    },
    {
      "cell_type": "code",
      "source": [
        "target_label=adfraud['is_attributed']\n",
        "target_label.shape"
      ],
      "metadata": {
        "colab": {
          "base_uri": "https://localhost:8080/"
        },
        "id": "-QlWkAU1Zx5_",
        "outputId": "1e1e5ce2-5f34-4746-eed0-af9729bdb5d7"
      },
      "id": "-QlWkAU1Zx5_",
      "execution_count": null,
      "outputs": [
        {
          "output_type": "execute_result",
          "data": {
            "text/plain": [
              "(100000,)"
            ]
          },
          "metadata": {},
          "execution_count": 171
        }
      ]
    },
    {
      "cell_type": "code",
      "source": [
        "ones=adfraud[adfraud['is_attributed']==1]\n",
        "zeros=adfraud[adfraud['is_attributed']==0]"
      ],
      "metadata": {
        "id": "SBc-bDzkdTYY"
      },
      "id": "SBc-bDzkdTYY",
      "execution_count": null,
      "outputs": []
    },
    {
      "cell_type": "code",
      "source": [
        "adfraud_train=adfraud.drop(['is_attributed','ip','attributed_time','click_time','app','device','os','channel','year','month'],axis=1)"
      ],
      "metadata": {
        "id": "NKl24kypZ0rD"
      },
      "id": "NKl24kypZ0rD",
      "execution_count": null,
      "outputs": []
    },
    {
      "cell_type": "code",
      "source": [
        "#split train set into train set and validation set\n",
        "from sklearn.model_selection import train_test_split\n",
        "x_train,x_test,y_train,y_test=train_test_split(adfraud_train,target_label,test_size=0.2,random_state=42)\n",
        "print(x_train.shape,y_train.shape)\n",
        "print(x_test.shape,y_test.shape)"
      ],
      "metadata": {
        "colab": {
          "base_uri": "https://localhost:8080/"
        },
        "id": "MStj79-4b_aa",
        "outputId": "eee44d21-33ca-468b-e559-2c2c6fc8a272"
      },
      "id": "MStj79-4b_aa",
      "execution_count": null,
      "outputs": [
        {
          "output_type": "stream",
          "name": "stdout",
          "text": [
            "(80000, 9) (80000,)\n",
            "(20000, 9) (20000,)\n"
          ]
        }
      ]
    },
    {
      "cell_type": "code",
      "source": [
        "x_train,x_val,y_train,y_val=train_test_split(x_train,y_train,test_size=0.1,random_state=42)\n",
        "print(x_train.shape,y_train.shape)\n",
        "print(x_val.shape,y_val.shape)"
      ],
      "metadata": {
        "colab": {
          "base_uri": "https://localhost:8080/"
        },
        "id": "e-rkB5taqBG9",
        "outputId": "520850aa-337e-466a-f445-1675f99570b6"
      },
      "id": "e-rkB5taqBG9",
      "execution_count": null,
      "outputs": [
        {
          "output_type": "stream",
          "name": "stdout",
          "text": [
            "(72000, 9) (72000,)\n",
            "(8000, 9) (8000,)\n"
          ]
        }
      ]
    },
    {
      "cell_type": "code",
      "source": [
        "x_test.head()"
      ],
      "metadata": {
        "colab": {
          "base_uri": "https://localhost:8080/",
          "height": 206
        },
        "id": "Tausm-RKiEM1",
        "outputId": "88c20efa-2c2d-4fa7-ce38-5dd533e76585"
      },
      "id": "Tausm-RKiEM1",
      "execution_count": null,
      "outputs": [
        {
          "output_type": "execute_result",
          "data": {
            "text/plain": [
              "       day  hour  min  sec  ip_labels  app_labels  device_labels  os_labels  \\\n",
              "75721    9    14   28   56       8449          13              1         34   \n",
              "80184    8    18   52   43      15418           1              1         22   \n",
              "19864    9    14   41   16       8400          10              1         12   \n",
              "76699    9    10   51   37      18705          22              1         13   \n",
              "92991    9    12   24    7       3585          25              1         32   \n",
              "\n",
              "       channel_labels  \n",
              "75721             149  \n",
              "80184             146  \n",
              "19864             150  \n",
              "76699              40  \n",
              "92991              24  "
            ],
            "text/html": [
              "\n",
              "  <div id=\"df-aea03d80-3d81-4cfa-9fb8-1517b1973636\">\n",
              "    <div class=\"colab-df-container\">\n",
              "      <div>\n",
              "<style scoped>\n",
              "    .dataframe tbody tr th:only-of-type {\n",
              "        vertical-align: middle;\n",
              "    }\n",
              "\n",
              "    .dataframe tbody tr th {\n",
              "        vertical-align: top;\n",
              "    }\n",
              "\n",
              "    .dataframe thead th {\n",
              "        text-align: right;\n",
              "    }\n",
              "</style>\n",
              "<table border=\"1\" class=\"dataframe\">\n",
              "  <thead>\n",
              "    <tr style=\"text-align: right;\">\n",
              "      <th></th>\n",
              "      <th>day</th>\n",
              "      <th>hour</th>\n",
              "      <th>min</th>\n",
              "      <th>sec</th>\n",
              "      <th>ip_labels</th>\n",
              "      <th>app_labels</th>\n",
              "      <th>device_labels</th>\n",
              "      <th>os_labels</th>\n",
              "      <th>channel_labels</th>\n",
              "    </tr>\n",
              "  </thead>\n",
              "  <tbody>\n",
              "    <tr>\n",
              "      <th>75721</th>\n",
              "      <td>9</td>\n",
              "      <td>14</td>\n",
              "      <td>28</td>\n",
              "      <td>56</td>\n",
              "      <td>8449</td>\n",
              "      <td>13</td>\n",
              "      <td>1</td>\n",
              "      <td>34</td>\n",
              "      <td>149</td>\n",
              "    </tr>\n",
              "    <tr>\n",
              "      <th>80184</th>\n",
              "      <td>8</td>\n",
              "      <td>18</td>\n",
              "      <td>52</td>\n",
              "      <td>43</td>\n",
              "      <td>15418</td>\n",
              "      <td>1</td>\n",
              "      <td>1</td>\n",
              "      <td>22</td>\n",
              "      <td>146</td>\n",
              "    </tr>\n",
              "    <tr>\n",
              "      <th>19864</th>\n",
              "      <td>9</td>\n",
              "      <td>14</td>\n",
              "      <td>41</td>\n",
              "      <td>16</td>\n",
              "      <td>8400</td>\n",
              "      <td>10</td>\n",
              "      <td>1</td>\n",
              "      <td>12</td>\n",
              "      <td>150</td>\n",
              "    </tr>\n",
              "    <tr>\n",
              "      <th>76699</th>\n",
              "      <td>9</td>\n",
              "      <td>10</td>\n",
              "      <td>51</td>\n",
              "      <td>37</td>\n",
              "      <td>18705</td>\n",
              "      <td>22</td>\n",
              "      <td>1</td>\n",
              "      <td>13</td>\n",
              "      <td>40</td>\n",
              "    </tr>\n",
              "    <tr>\n",
              "      <th>92991</th>\n",
              "      <td>9</td>\n",
              "      <td>12</td>\n",
              "      <td>24</td>\n",
              "      <td>7</td>\n",
              "      <td>3585</td>\n",
              "      <td>25</td>\n",
              "      <td>1</td>\n",
              "      <td>32</td>\n",
              "      <td>24</td>\n",
              "    </tr>\n",
              "  </tbody>\n",
              "</table>\n",
              "</div>\n",
              "      <button class=\"colab-df-convert\" onclick=\"convertToInteractive('df-aea03d80-3d81-4cfa-9fb8-1517b1973636')\"\n",
              "              title=\"Convert this dataframe to an interactive table.\"\n",
              "              style=\"display:none;\">\n",
              "        \n",
              "  <svg xmlns=\"http://www.w3.org/2000/svg\" height=\"24px\"viewBox=\"0 0 24 24\"\n",
              "       width=\"24px\">\n",
              "    <path d=\"M0 0h24v24H0V0z\" fill=\"none\"/>\n",
              "    <path d=\"M18.56 5.44l.94 2.06.94-2.06 2.06-.94-2.06-.94-.94-2.06-.94 2.06-2.06.94zm-11 1L8.5 8.5l.94-2.06 2.06-.94-2.06-.94L8.5 2.5l-.94 2.06-2.06.94zm10 10l.94 2.06.94-2.06 2.06-.94-2.06-.94-.94-2.06-.94 2.06-2.06.94z\"/><path d=\"M17.41 7.96l-1.37-1.37c-.4-.4-.92-.59-1.43-.59-.52 0-1.04.2-1.43.59L10.3 9.45l-7.72 7.72c-.78.78-.78 2.05 0 2.83L4 21.41c.39.39.9.59 1.41.59.51 0 1.02-.2 1.41-.59l7.78-7.78 2.81-2.81c.8-.78.8-2.07 0-2.86zM5.41 20L4 18.59l7.72-7.72 1.47 1.35L5.41 20z\"/>\n",
              "  </svg>\n",
              "      </button>\n",
              "      \n",
              "  <style>\n",
              "    .colab-df-container {\n",
              "      display:flex;\n",
              "      flex-wrap:wrap;\n",
              "      gap: 12px;\n",
              "    }\n",
              "\n",
              "    .colab-df-convert {\n",
              "      background-color: #E8F0FE;\n",
              "      border: none;\n",
              "      border-radius: 50%;\n",
              "      cursor: pointer;\n",
              "      display: none;\n",
              "      fill: #1967D2;\n",
              "      height: 32px;\n",
              "      padding: 0 0 0 0;\n",
              "      width: 32px;\n",
              "    }\n",
              "\n",
              "    .colab-df-convert:hover {\n",
              "      background-color: #E2EBFA;\n",
              "      box-shadow: 0px 1px 2px rgba(60, 64, 67, 0.3), 0px 1px 3px 1px rgba(60, 64, 67, 0.15);\n",
              "      fill: #174EA6;\n",
              "    }\n",
              "\n",
              "    [theme=dark] .colab-df-convert {\n",
              "      background-color: #3B4455;\n",
              "      fill: #D2E3FC;\n",
              "    }\n",
              "\n",
              "    [theme=dark] .colab-df-convert:hover {\n",
              "      background-color: #434B5C;\n",
              "      box-shadow: 0px 1px 3px 1px rgba(0, 0, 0, 0.15);\n",
              "      filter: drop-shadow(0px 1px 2px rgba(0, 0, 0, 0.3));\n",
              "      fill: #FFFFFF;\n",
              "    }\n",
              "  </style>\n",
              "\n",
              "      <script>\n",
              "        const buttonEl =\n",
              "          document.querySelector('#df-aea03d80-3d81-4cfa-9fb8-1517b1973636 button.colab-df-convert');\n",
              "        buttonEl.style.display =\n",
              "          google.colab.kernel.accessAllowed ? 'block' : 'none';\n",
              "\n",
              "        async function convertToInteractive(key) {\n",
              "          const element = document.querySelector('#df-aea03d80-3d81-4cfa-9fb8-1517b1973636');\n",
              "          const dataTable =\n",
              "            await google.colab.kernel.invokeFunction('convertToInteractive',\n",
              "                                                     [key], {});\n",
              "          if (!dataTable) return;\n",
              "\n",
              "          const docLinkHtml = 'Like what you see? Visit the ' +\n",
              "            '<a target=\"_blank\" href=https://colab.research.google.com/notebooks/data_table.ipynb>data table notebook</a>'\n",
              "            + ' to learn more about interactive tables.';\n",
              "          element.innerHTML = '';\n",
              "          dataTable['output_type'] = 'display_data';\n",
              "          await google.colab.output.renderOutput(dataTable, element);\n",
              "          const docLink = document.createElement('div');\n",
              "          docLink.innerHTML = docLinkHtml;\n",
              "          element.appendChild(docLink);\n",
              "        }\n",
              "      </script>\n",
              "    </div>\n",
              "  </div>\n",
              "  "
            ]
          },
          "metadata": {},
          "execution_count": 223
        }
      ]
    },
    {
      "cell_type": "code",
      "source": [
        "adfraud_train.info()"
      ],
      "metadata": {
        "colab": {
          "base_uri": "https://localhost:8080/"
        },
        "id": "fX6CKbskj5G5",
        "outputId": "6383b32f-36b3-465e-9659-d8ca6079b5e5"
      },
      "id": "fX6CKbskj5G5",
      "execution_count": null,
      "outputs": [
        {
          "output_type": "stream",
          "name": "stdout",
          "text": [
            "<class 'pandas.core.frame.DataFrame'>\n",
            "RangeIndex: 100000 entries, 0 to 99999\n",
            "Data columns (total 9 columns):\n",
            " #   Column          Non-Null Count   Dtype\n",
            "---  ------          --------------   -----\n",
            " 0   day             100000 non-null  int64\n",
            " 1   hour            100000 non-null  int64\n",
            " 2   min             100000 non-null  int64\n",
            " 3   sec             100000 non-null  int64\n",
            " 4   ip_labels       100000 non-null  int64\n",
            " 5   app_labels      100000 non-null  int64\n",
            " 6   device_labels   100000 non-null  int64\n",
            " 7   os_labels       100000 non-null  int64\n",
            " 8   channel_labels  100000 non-null  int64\n",
            "dtypes: int64(9)\n",
            "memory usage: 6.9 MB\n"
          ]
        }
      ]
    },
    {
      "cell_type": "markdown",
      "source": [
        "LGBM Model"
      ],
      "metadata": {
        "id": "J5GGbk-GcBms"
      },
      "id": "J5GGbk-GcBms"
    },
    {
      "cell_type": "code",
      "source": [
        "import lightgbm as lgb"
      ],
      "metadata": {
        "id": "LFswQHoWae7t"
      },
      "id": "LFswQHoWae7t",
      "execution_count": null,
      "outputs": []
    },
    {
      "cell_type": "code",
      "source": [
        "#load datasets in lgb formate\n",
        "train_data=lgb.Dataset(x_train,label=y_train,free_raw_data=False)\n",
        "validation_data=lgb.Dataset(x_val,label=y_val,free_raw_data=False)"
      ],
      "metadata": {
        "id": "kUlN3Mm3cJJ9"
      },
      "id": "kUlN3Mm3cJJ9",
      "execution_count": null,
      "outputs": []
    },
    {
      "cell_type": "markdown",
      "source": [
        "LGBM Basemodel"
      ],
      "metadata": {
        "id": "0Sw2JWpdc2Rw"
      },
      "id": "0Sw2JWpdc2Rw"
    },
    {
      "cell_type": "code",
      "source": [
        "#LGBM Baseline\n",
        "\n",
        "#set parameters for training\n",
        "params={ 'num_leaves':160,\n",
        "        'object':'binary',\n",
        "        'metric':['auc','binary_logloss']\n",
        "       }"
      ],
      "metadata": {
        "id": "BdMVxWJRcpf7"
      },
      "id": "BdMVxWJRcpf7",
      "execution_count": null,
      "outputs": []
    },
    {
      "cell_type": "code",
      "source": [
        "#Original LGB model before sampling\n",
        "num_round=100\n",
        "def lgb_basemodel(x_train,y_train):\n",
        "    lgb_model=lgb.train(params,train_data,num_round,valid_sets=validation_data,early_stopping_rounds=20)\n",
        "    return lgb_model"
      ],
      "metadata": {
        "id": "NAcABZ4Xct0d"
      },
      "id": "NAcABZ4Xct0d",
      "execution_count": null,
      "outputs": []
    },
    {
      "cell_type": "markdown",
      "source": [
        "LGBM model with Downsampling"
      ],
      "metadata": {
        "id": "Yfj0MG17c6zM"
      },
      "id": "Yfj0MG17c6zM"
    },
    {
      "cell_type": "code",
      "source": [
        "#LGBM model after resampling the data using Under sampling techniques\n",
        "from imblearn.under_sampling import RandomUnderSampler \n",
        "def lgb_downsampling(x_train,y_train):\n",
        "    lgb_enn=RandomUnderSampler(random_state=42)\n",
        "    x_resample,y_resample=lgb_enn.fit_resample(x_train,y_train)\n",
        "    train_data=lgb.Dataset(x_resample,label=y_resample,free_raw_data=False)\n",
        "    lgb_model=lgb.train(params,train_data,num_round,valid_sets=validation_data,early_stopping_rounds=20)\n",
        "    return lgb_model,x_resample,y_resample;"
      ],
      "metadata": {
        "id": "FmEM8vtHc6fH"
      },
      "id": "FmEM8vtHc6fH",
      "execution_count": null,
      "outputs": []
    },
    {
      "cell_type": "markdown",
      "source": [
        "LGBM with Unsampling"
      ],
      "metadata": {
        "id": "YK5OhcCsc_jY"
      },
      "id": "YK5OhcCsc_jY"
    },
    {
      "cell_type": "code",
      "source": [
        "#LGBM model after resampling the data using Up sampling techniques\n",
        "from imblearn.over_sampling import SMOTE  #Balances the classes by performing upsampling on minority class\n",
        "def lgb_upsampling(x_train,y_train):\n",
        "    lgb_smote= SMOTE(random_state=42)\n",
        "    x_resample,y_resample=lgb_smote.fit_resample(x_train,y_train)\n",
        "    train_data=lgb.Dataset(x_resample,label=y_resample)\n",
        "    lgb_model=lgb.train(params,train_data,num_round,valid_sets=validation_data,early_stopping_rounds=20)\n",
        "    return lgb_model,x_resample,y_resample;"
      ],
      "metadata": {
        "id": "hdbvDIeHcwcs"
      },
      "id": "hdbvDIeHcwcs",
      "execution_count": null,
      "outputs": []
    },
    {
      "cell_type": "markdown",
      "source": [
        "LGBM with Upweighting"
      ],
      "metadata": {
        "id": "M_LagF2UdD_W"
      },
      "id": "M_LagF2UdD_W"
    },
    {
      "cell_type": "code",
      "source": [
        "weight_factor=zeros.shape[0]/ones.shape[0]  # Ratio of number of samples in majority class to number of samples in minority class\n",
        "print('Weight factor is %0.2f'%(weight_factor))"
      ],
      "metadata": {
        "colab": {
          "base_uri": "https://localhost:8080/"
        },
        "id": "uoD0DoQ_dIXN",
        "outputId": "8707b2c2-0904-48a0-ac6f-1b9cfb813a87"
      },
      "id": "uoD0DoQ_dIXN",
      "execution_count": null,
      "outputs": [
        {
          "output_type": "stream",
          "name": "stdout",
          "text": [
            "Weight factor is 439.53\n"
          ]
        }
      ]
    },
    {
      "cell_type": "code",
      "source": [
        "#set parameters for training\n",
        "params1={ 'num_leaves':160,\n",
        "        'object':'binary',\n",
        "        'metric':['auc','binary_logloss'],\n",
        "        'scale_pos_weight':397.41                 #Weight of minority class\n",
        "       }"
      ],
      "metadata": {
        "id": "oettf_nBg5ej"
      },
      "id": "oettf_nBg5ej",
      "execution_count": null,
      "outputs": []
    },
    {
      "cell_type": "code",
      "source": [
        "#LGBM model using Upweighting technique for handling the imbalanced data\n",
        "def lgb_Upweighting(x_train,y_train):\n",
        "    lgb_model=lgb.train(params1,train_data,num_round,valid_sets=validation_data,early_stopping_rounds=20)\n",
        "    return lgb_model;"
      ],
      "metadata": {
        "id": "VnW1g9Fxg7-d"
      },
      "id": "VnW1g9Fxg7-d",
      "execution_count": null,
      "outputs": []
    },
    {
      "cell_type": "markdown",
      "source": [
        "Train LGBM Models"
      ],
      "metadata": {
        "id": "0IpqZ_B0g_q1"
      },
      "id": "0IpqZ_B0g_q1"
    },
    {
      "cell_type": "code",
      "source": [
        "#Basemodel\n",
        "lgb_basemodel=lgb_basemodel(x_train,y_train)"
      ],
      "metadata": {
        "colab": {
          "base_uri": "https://localhost:8080/"
        },
        "id": "eOcq2qNYg9tx",
        "outputId": "dfb20f0d-06c6-481e-ad7a-a210a0c85552"
      },
      "id": "eOcq2qNYg9tx",
      "execution_count": null,
      "outputs": [
        {
          "output_type": "stream",
          "name": "stdout",
          "text": [
            "[1]\tvalid_0's binary_logloss: 0.0125899\tvalid_0's auc: 0.888928\n",
            "Training until validation scores don't improve for 20 rounds.\n",
            "[2]\tvalid_0's binary_logloss: 0.0115413\tvalid_0's auc: 0.892887\n",
            "[3]\tvalid_0's binary_logloss: 0.0107108\tvalid_0's auc: 0.879506\n",
            "[4]\tvalid_0's binary_logloss: 0.0101562\tvalid_0's auc: 0.904696\n",
            "[5]\tvalid_0's binary_logloss: 0.00988042\tvalid_0's auc: 0.895431\n",
            "[6]\tvalid_0's binary_logloss: 0.010985\tvalid_0's auc: 0.883048\n",
            "[7]\tvalid_0's binary_logloss: 0.0108584\tvalid_0's auc: 0.888127\n",
            "[8]\tvalid_0's binary_logloss: 0.010657\tvalid_0's auc: 0.880263\n",
            "[9]\tvalid_0's binary_logloss: 0.0105385\tvalid_0's auc: 0.8717\n",
            "[10]\tvalid_0's binary_logloss: 0.0105274\tvalid_0's auc: 0.86888\n",
            "[11]\tvalid_0's binary_logloss: 0.0104968\tvalid_0's auc: 0.855429\n",
            "[12]\tvalid_0's binary_logloss: 0.0105288\tvalid_0's auc: 0.854532\n",
            "[13]\tvalid_0's binary_logloss: 0.0106691\tvalid_0's auc: 0.847762\n",
            "[14]\tvalid_0's binary_logloss: 0.0109215\tvalid_0's auc: 0.842197\n",
            "[15]\tvalid_0's binary_logloss: 0.0135806\tvalid_0's auc: 0.823038\n",
            "[16]\tvalid_0's binary_logloss: 0.0147457\tvalid_0's auc: 0.836749\n",
            "[17]\tvalid_0's binary_logloss: 0.0148156\tvalid_0's auc: 0.835563\n",
            "[18]\tvalid_0's binary_logloss: 0.0149925\tvalid_0's auc: 0.834248\n",
            "[19]\tvalid_0's binary_logloss: 0.015076\tvalid_0's auc: 0.852495\n",
            "[20]\tvalid_0's binary_logloss: 0.0182535\tvalid_0's auc: 0.868702\n",
            "[21]\tvalid_0's binary_logloss: 0.0167122\tvalid_0's auc: 0.888027\n",
            "[22]\tvalid_0's binary_logloss: 0.0152489\tvalid_0's auc: 0.900959\n",
            "[23]\tvalid_0's binary_logloss: 0.0135934\tvalid_0's auc: 0.921696\n",
            "[24]\tvalid_0's binary_logloss: 0.013447\tvalid_0's auc: 0.922509\n",
            "[25]\tvalid_0's binary_logloss: 0.0133537\tvalid_0's auc: 0.923314\n",
            "Early stopping, best iteration is:\n",
            "[5]\tvalid_0's binary_logloss: 0.00988042\tvalid_0's auc: 0.895431\n"
          ]
        }
      ]
    },
    {
      "cell_type": "code",
      "source": [
        "#Downsampling model\n",
        "lgb_downsampling,x_down,y_down=lgb_downsampling(x_train,y_train)\n"
      ],
      "metadata": {
        "colab": {
          "base_uri": "https://localhost:8080/"
        },
        "id": "PEKB6-jrhkVE",
        "outputId": "e648937e-9ee5-4d85-85c2-1b76eb86e781"
      },
      "id": "PEKB6-jrhkVE",
      "execution_count": null,
      "outputs": [
        {
          "output_type": "stream",
          "name": "stdout",
          "text": [
            "[1]\tvalid_0's binary_logloss: 0.636164\tvalid_0's auc: 0.886023\n",
            "Training until validation scores don't improve for 20 rounds.\n",
            "[2]\tvalid_0's binary_logloss: 0.585462\tvalid_0's auc: 0.887124\n",
            "[3]\tvalid_0's binary_logloss: 0.549718\tvalid_0's auc: 0.873846\n",
            "[4]\tvalid_0's binary_logloss: 0.514737\tvalid_0's auc: 0.883782\n",
            "[5]\tvalid_0's binary_logloss: 0.485303\tvalid_0's auc: 0.871237\n",
            "[6]\tvalid_0's binary_logloss: 0.457106\tvalid_0's auc: 0.872306\n",
            "[7]\tvalid_0's binary_logloss: 0.437631\tvalid_0's auc: 0.877733\n",
            "[8]\tvalid_0's binary_logloss: 0.418252\tvalid_0's auc: 0.887809\n",
            "[9]\tvalid_0's binary_logloss: 0.400665\tvalid_0's auc: 0.886734\n",
            "[10]\tvalid_0's binary_logloss: 0.383021\tvalid_0's auc: 0.887835\n",
            "[11]\tvalid_0's binary_logloss: 0.369222\tvalid_0's auc: 0.888546\n",
            "[12]\tvalid_0's binary_logloss: 0.354604\tvalid_0's auc: 0.895097\n",
            "[13]\tvalid_0's binary_logloss: 0.34366\tvalid_0's auc: 0.892275\n",
            "[14]\tvalid_0's binary_logloss: 0.33173\tvalid_0's auc: 0.891295\n",
            "[15]\tvalid_0's binary_logloss: 0.322259\tvalid_0's auc: 0.889283\n",
            "[16]\tvalid_0's binary_logloss: 0.313815\tvalid_0's auc: 0.888377\n",
            "[17]\tvalid_0's binary_logloss: 0.306708\tvalid_0's auc: 0.888719\n",
            "[18]\tvalid_0's binary_logloss: 0.298171\tvalid_0's auc: 0.89009\n",
            "[19]\tvalid_0's binary_logloss: 0.294351\tvalid_0's auc: 0.890337\n",
            "[20]\tvalid_0's binary_logloss: 0.290228\tvalid_0's auc: 0.896799\n",
            "[21]\tvalid_0's binary_logloss: 0.2859\tvalid_0's auc: 0.897864\n",
            "[22]\tvalid_0's binary_logloss: 0.28241\tvalid_0's auc: 0.897588\n",
            "[23]\tvalid_0's binary_logloss: 0.28043\tvalid_0's auc: 0.897779\n",
            "[24]\tvalid_0's binary_logloss: 0.279216\tvalid_0's auc: 0.898439\n",
            "[25]\tvalid_0's binary_logloss: 0.276397\tvalid_0's auc: 0.902182\n",
            "[26]\tvalid_0's binary_logloss: 0.271858\tvalid_0's auc: 0.904496\n",
            "[27]\tvalid_0's binary_logloss: 0.270312\tvalid_0's auc: 0.905947\n",
            "[28]\tvalid_0's binary_logloss: 0.267896\tvalid_0's auc: 0.906183\n",
            "[29]\tvalid_0's binary_logloss: 0.266374\tvalid_0's auc: 0.904864\n",
            "[30]\tvalid_0's binary_logloss: 0.268779\tvalid_0's auc: 0.903597\n",
            "[31]\tvalid_0's binary_logloss: 0.26978\tvalid_0's auc: 0.903272\n",
            "[32]\tvalid_0's binary_logloss: 0.27329\tvalid_0's auc: 0.904385\n",
            "[33]\tvalid_0's binary_logloss: 0.271237\tvalid_0's auc: 0.903317\n",
            "[34]\tvalid_0's binary_logloss: 0.265004\tvalid_0's auc: 0.903619\n",
            "[35]\tvalid_0's binary_logloss: 0.263164\tvalid_0's auc: 0.904319\n",
            "[36]\tvalid_0's binary_logloss: 0.262799\tvalid_0's auc: 0.90297\n",
            "[37]\tvalid_0's binary_logloss: 0.264548\tvalid_0's auc: 0.901718\n",
            "[38]\tvalid_0's binary_logloss: 0.260516\tvalid_0's auc: 0.902462\n",
            "[39]\tvalid_0's binary_logloss: 0.267362\tvalid_0's auc: 0.902071\n",
            "[40]\tvalid_0's binary_logloss: 0.261988\tvalid_0's auc: 0.901629\n",
            "[41]\tvalid_0's binary_logloss: 0.266663\tvalid_0's auc: 0.901062\n",
            "[42]\tvalid_0's binary_logloss: 0.265871\tvalid_0's auc: 0.900693\n",
            "[43]\tvalid_0's binary_logloss: 0.261337\tvalid_0's auc: 0.902064\n",
            "[44]\tvalid_0's binary_logloss: 0.257481\tvalid_0's auc: 0.900988\n",
            "[45]\tvalid_0's binary_logloss: 0.255393\tvalid_0's auc: 0.899934\n",
            "[46]\tvalid_0's binary_logloss: 0.257935\tvalid_0's auc: 0.902344\n",
            "[47]\tvalid_0's binary_logloss: 0.253874\tvalid_0's auc: 0.901106\n",
            "[48]\tvalid_0's binary_logloss: 0.256594\tvalid_0's auc: 0.900649\n",
            "Early stopping, best iteration is:\n",
            "[28]\tvalid_0's binary_logloss: 0.267896\tvalid_0's auc: 0.906183\n"
          ]
        }
      ]
    },
    {
      "cell_type": "code",
      "source": [
        "y_down_df=pd.DataFrame(y_down)\n",
        "y_down.shape"
      ],
      "metadata": {
        "colab": {
          "base_uri": "https://localhost:8080/"
        },
        "id": "fV4y5dAuoXZE",
        "outputId": "46ccaa5a-1095-4f55-f3fc-255c4bac9193"
      },
      "id": "fV4y5dAuoXZE",
      "execution_count": null,
      "outputs": [
        {
          "output_type": "execute_result",
          "data": {
            "text/plain": [
              "(318,)"
            ]
          },
          "metadata": {},
          "execution_count": 207
        }
      ]
    },
    {
      "cell_type": "code",
      "source": [
        "#Upsampling model\n",
        "lgb_upsampling,x_up,y_up=lgb_upsampling(x_train,y_train)"
      ],
      "metadata": {
        "colab": {
          "base_uri": "https://localhost:8080/"
        },
        "id": "sJp0vJPioken",
        "outputId": "d26e8b9c-9417-49a2-e5cb-759f264be231"
      },
      "id": "sJp0vJPioken",
      "execution_count": null,
      "outputs": [
        {
          "output_type": "stream",
          "name": "stdout",
          "text": [
            "[1]\tvalid_0's binary_logloss: 0.604525\tvalid_0's auc: 0.888985\n",
            "Training until validation scores don't improve for 20 rounds.\n",
            "[2]\tvalid_0's binary_logloss: 0.532117\tvalid_0's auc: 0.879372\n",
            "[3]\tvalid_0's binary_logloss: 0.470888\tvalid_0's auc: 0.883315\n",
            "[4]\tvalid_0's binary_logloss: 0.419274\tvalid_0's auc: 0.882047\n",
            "[5]\tvalid_0's binary_logloss: 0.374796\tvalid_0's auc: 0.875014\n",
            "[6]\tvalid_0's binary_logloss: 0.336245\tvalid_0's auc: 0.914517\n",
            "[7]\tvalid_0's binary_logloss: 0.303507\tvalid_0's auc: 0.916753\n",
            "[8]\tvalid_0's binary_logloss: 0.274258\tvalid_0's auc: 0.920257\n",
            "[9]\tvalid_0's binary_logloss: 0.248308\tvalid_0's auc: 0.923661\n",
            "[10]\tvalid_0's binary_logloss: 0.225028\tvalid_0's auc: 0.924192\n",
            "[11]\tvalid_0's binary_logloss: 0.204954\tvalid_0's auc: 0.926933\n",
            "[12]\tvalid_0's binary_logloss: 0.187233\tvalid_0's auc: 0.931649\n",
            "[13]\tvalid_0's binary_logloss: 0.171432\tvalid_0's auc: 0.932651\n",
            "[14]\tvalid_0's binary_logloss: 0.157156\tvalid_0's auc: 0.929873\n",
            "[15]\tvalid_0's binary_logloss: 0.144506\tvalid_0's auc: 0.9311\n",
            "[16]\tvalid_0's binary_logloss: 0.133302\tvalid_0's auc: 0.932257\n",
            "[17]\tvalid_0's binary_logloss: 0.122865\tvalid_0's auc: 0.930934\n",
            "[18]\tvalid_0's binary_logloss: 0.113566\tvalid_0's auc: 0.94548\n",
            "[19]\tvalid_0's binary_logloss: 0.105062\tvalid_0's auc: 0.943523\n",
            "[20]\tvalid_0's binary_logloss: 0.0976309\tvalid_0's auc: 0.944105\n",
            "[21]\tvalid_0's binary_logloss: 0.0907554\tvalid_0's auc: 0.942691\n",
            "[22]\tvalid_0's binary_logloss: 0.0845878\tvalid_0's auc: 0.942904\n",
            "[23]\tvalid_0's binary_logloss: 0.0791461\tvalid_0's auc: 0.94422\n",
            "[24]\tvalid_0's binary_logloss: 0.0742365\tvalid_0's auc: 0.944271\n",
            "[25]\tvalid_0's binary_logloss: 0.069742\tvalid_0's auc: 0.946644\n",
            "[26]\tvalid_0's binary_logloss: 0.0654884\tvalid_0's auc: 0.945719\n",
            "[27]\tvalid_0's binary_logloss: 0.0617862\tvalid_0's auc: 0.945211\n",
            "[28]\tvalid_0's binary_logloss: 0.0581898\tvalid_0's auc: 0.946766\n",
            "[29]\tvalid_0's binary_logloss: 0.0552481\tvalid_0's auc: 0.946224\n",
            "[30]\tvalid_0's binary_logloss: 0.0523658\tvalid_0's auc: 0.950726\n",
            "[31]\tvalid_0's binary_logloss: 0.0499588\tvalid_0's auc: 0.951249\n",
            "[32]\tvalid_0's binary_logloss: 0.0476118\tvalid_0's auc: 0.943545\n",
            "[33]\tvalid_0's binary_logloss: 0.0454615\tvalid_0's auc: 0.942912\n",
            "[34]\tvalid_0's binary_logloss: 0.0436857\tvalid_0's auc: 0.944105\n",
            "[35]\tvalid_0's binary_logloss: 0.0421176\tvalid_0's auc: 0.943125\n",
            "[36]\tvalid_0's binary_logloss: 0.0405959\tvalid_0's auc: 0.942742\n",
            "[37]\tvalid_0's binary_logloss: 0.0391191\tvalid_0's auc: 0.942624\n",
            "[38]\tvalid_0's binary_logloss: 0.0376623\tvalid_0's auc: 0.940749\n",
            "[39]\tvalid_0's binary_logloss: 0.036438\tvalid_0's auc: 0.942532\n",
            "[40]\tvalid_0's binary_logloss: 0.0352974\tvalid_0's auc: 0.94268\n",
            "[41]\tvalid_0's binary_logloss: 0.0342075\tvalid_0's auc: 0.942989\n",
            "[42]\tvalid_0's binary_logloss: 0.0333553\tvalid_0's auc: 0.94293\n",
            "[43]\tvalid_0's binary_logloss: 0.0325638\tvalid_0's auc: 0.943004\n",
            "[44]\tvalid_0's binary_logloss: 0.0317577\tvalid_0's auc: 0.939482\n",
            "[45]\tvalid_0's binary_logloss: 0.0310552\tvalid_0's auc: 0.939555\n",
            "[46]\tvalid_0's binary_logloss: 0.0304265\tvalid_0's auc: 0.944728\n",
            "[47]\tvalid_0's binary_logloss: 0.0298159\tvalid_0's auc: 0.944677\n",
            "[48]\tvalid_0's binary_logloss: 0.029166\tvalid_0's auc: 0.948936\n",
            "[49]\tvalid_0's binary_logloss: 0.0285619\tvalid_0's auc: 0.951846\n",
            "[50]\tvalid_0's binary_logloss: 0.0281403\tvalid_0's auc: 0.950306\n",
            "[51]\tvalid_0's binary_logloss: 0.0276525\tvalid_0's auc: 0.951095\n",
            "[52]\tvalid_0's binary_logloss: 0.0271833\tvalid_0's auc: 0.954079\n",
            "[53]\tvalid_0's binary_logloss: 0.0268378\tvalid_0's auc: 0.954116\n",
            "[54]\tvalid_0's binary_logloss: 0.0263537\tvalid_0's auc: 0.953983\n",
            "[55]\tvalid_0's binary_logloss: 0.0257231\tvalid_0's auc: 0.955118\n",
            "[56]\tvalid_0's binary_logloss: 0.0252208\tvalid_0's auc: 0.952771\n",
            "[57]\tvalid_0's binary_logloss: 0.0248482\tvalid_0's auc: 0.950988\n",
            "[58]\tvalid_0's binary_logloss: 0.0245318\tvalid_0's auc: 0.952178\n",
            "[59]\tvalid_0's binary_logloss: 0.0241739\tvalid_0's auc: 0.951198\n",
            "[60]\tvalid_0's binary_logloss: 0.0238227\tvalid_0's auc: 0.951559\n",
            "[61]\tvalid_0's binary_logloss: 0.0235642\tvalid_0's auc: 0.953423\n",
            "[62]\tvalid_0's binary_logloss: 0.0233362\tvalid_0's auc: 0.953327\n",
            "[63]\tvalid_0's binary_logloss: 0.0231821\tvalid_0's auc: 0.953696\n",
            "[64]\tvalid_0's binary_logloss: 0.0229808\tvalid_0's auc: 0.95399\n",
            "[65]\tvalid_0's binary_logloss: 0.0228305\tvalid_0's auc: 0.954123\n",
            "[66]\tvalid_0's binary_logloss: 0.0226641\tvalid_0's auc: 0.954609\n",
            "[67]\tvalid_0's binary_logloss: 0.0224716\tvalid_0's auc: 0.954727\n",
            "[68]\tvalid_0's binary_logloss: 0.0221269\tvalid_0's auc: 0.952355\n",
            "[69]\tvalid_0's binary_logloss: 0.0219346\tvalid_0's auc: 0.95234\n",
            "[70]\tvalid_0's binary_logloss: 0.0217791\tvalid_0's auc: 0.951397\n",
            "[71]\tvalid_0's binary_logloss: 0.021572\tvalid_0's auc: 0.951728\n",
            "[72]\tvalid_0's binary_logloss: 0.0213794\tvalid_0's auc: 0.951028\n",
            "[73]\tvalid_0's binary_logloss: 0.0212555\tvalid_0's auc: 0.950247\n",
            "[74]\tvalid_0's binary_logloss: 0.0210967\tvalid_0's auc: 0.949194\n",
            "[75]\tvalid_0's binary_logloss: 0.0209685\tvalid_0's auc: 0.949267\n",
            "Early stopping, best iteration is:\n",
            "[55]\tvalid_0's binary_logloss: 0.0257231\tvalid_0's auc: 0.955118\n"
          ]
        }
      ]
    },
    {
      "cell_type": "code",
      "source": [
        "#Upweighting model \n",
        "lgb_upweighting=lgb_Upweighting(x_train,y_train);"
      ],
      "metadata": {
        "colab": {
          "base_uri": "https://localhost:8080/"
        },
        "id": "kNcxIUrzom9g",
        "outputId": "47c26f08-1c1f-49dc-8394-98120911969f"
      },
      "id": "kNcxIUrzom9g",
      "execution_count": null,
      "outputs": [
        {
          "output_type": "stream",
          "name": "stdout",
          "text": [
            "[1]\tvalid_0's binary_logloss: 0.0122057\tvalid_0's auc: 0.789604\n",
            "Training until validation scores don't improve for 20 rounds.\n",
            "[2]\tvalid_0's binary_logloss: 0.0110713\tvalid_0's auc: 0.79064\n",
            "[3]\tvalid_0's binary_logloss: 0.0106276\tvalid_0's auc: 0.818909\n",
            "[4]\tvalid_0's binary_logloss: 0.0103406\tvalid_0's auc: 0.927755\n",
            "[5]\tvalid_0's binary_logloss: 0.0102605\tvalid_0's auc: 0.938262\n",
            "[6]\tvalid_0's binary_logloss: 0.00989805\tvalid_0's auc: 0.943903\n",
            "[7]\tvalid_0's binary_logloss: 0.00958278\tvalid_0's auc: 0.955914\n",
            "[8]\tvalid_0's binary_logloss: 0.00937624\tvalid_0's auc: 0.918385\n",
            "[9]\tvalid_0's binary_logloss: 0.00912035\tvalid_0's auc: 0.929575\n",
            "[10]\tvalid_0's binary_logloss: 0.00925249\tvalid_0's auc: 0.878812\n",
            "[11]\tvalid_0's binary_logloss: 0.00934405\tvalid_0's auc: 0.879641\n",
            "[12]\tvalid_0's binary_logloss: 0.0092731\tvalid_0's auc: 0.876609\n",
            "[13]\tvalid_0's binary_logloss: 0.0129403\tvalid_0's auc: 0.828617\n",
            "[14]\tvalid_0's binary_logloss: 0.0131262\tvalid_0's auc: 0.831734\n",
            "[15]\tvalid_0's binary_logloss: 0.0160839\tvalid_0's auc: 0.83505\n",
            "[16]\tvalid_0's binary_logloss: 0.015893\tvalid_0's auc: 0.846486\n",
            "[17]\tvalid_0's binary_logloss: 0.0159705\tvalid_0's auc: 0.842168\n",
            "[18]\tvalid_0's binary_logloss: 0.0160104\tvalid_0's auc: 0.841314\n",
            "[19]\tvalid_0's binary_logloss: 0.0161109\tvalid_0's auc: 0.842316\n",
            "[20]\tvalid_0's binary_logloss: 0.0125047\tvalid_0's auc: 0.895779\n",
            "[21]\tvalid_0's binary_logloss: 0.0160483\tvalid_0's auc: 0.839652\n",
            "[22]\tvalid_0's binary_logloss: 0.0197941\tvalid_0's auc: 0.788477\n",
            "[23]\tvalid_0's binary_logloss: 0.0126904\tvalid_0's auc: 0.885919\n",
            "[24]\tvalid_0's binary_logloss: 0.0129727\tvalid_0's auc: 0.880341\n",
            "[25]\tvalid_0's binary_logloss: 0.0155772\tvalid_0's auc: 0.883959\n",
            "[26]\tvalid_0's binary_logloss: 0.0155978\tvalid_0's auc: 0.881734\n",
            "[27]\tvalid_0's binary_logloss: 0.0157584\tvalid_0's auc: 0.880982\n",
            "Early stopping, best iteration is:\n",
            "[7]\tvalid_0's binary_logloss: 0.00958278\tvalid_0's auc: 0.955914\n"
          ]
        }
      ]
    },
    {
      "cell_type": "code",
      "source": [
        "from sklearn.metrics import confusion_matrix, classification_report, roc_curve, roc_auc_score"
      ],
      "metadata": {
        "id": "1yXjCJ48sg6-"
      },
      "id": "1yXjCJ48sg6-",
      "execution_count": null,
      "outputs": []
    },
    {
      "cell_type": "code",
      "source": [
        "!pip install scikit-plot"
      ],
      "metadata": {
        "colab": {
          "base_uri": "https://localhost:8080/"
        },
        "id": "cmNbTsQQqOOk",
        "outputId": "ae8fa1f6-4031-4dac-d010-e43123134a17"
      },
      "id": "cmNbTsQQqOOk",
      "execution_count": null,
      "outputs": [
        {
          "output_type": "stream",
          "name": "stdout",
          "text": [
            "Looking in indexes: https://pypi.org/simple, https://us-python.pkg.dev/colab-wheels/public/simple/\n",
            "Collecting scikit-plot\n",
            "  Downloading scikit_plot-0.3.7-py3-none-any.whl (33 kB)\n",
            "Requirement already satisfied: joblib>=0.10 in /usr/local/lib/python3.7/dist-packages (from scikit-plot) (1.1.0)\n",
            "Requirement already satisfied: matplotlib>=1.4.0 in /usr/local/lib/python3.7/dist-packages (from scikit-plot) (3.2.2)\n",
            "Requirement already satisfied: scikit-learn>=0.18 in /usr/local/lib/python3.7/dist-packages (from scikit-plot) (1.0.2)\n",
            "Requirement already satisfied: scipy>=0.9 in /usr/local/lib/python3.7/dist-packages (from scikit-plot) (1.7.3)\n",
            "Requirement already satisfied: python-dateutil>=2.1 in /usr/local/lib/python3.7/dist-packages (from matplotlib>=1.4.0->scikit-plot) (2.8.2)\n",
            "Requirement already satisfied: numpy>=1.11 in /usr/local/lib/python3.7/dist-packages (from matplotlib>=1.4.0->scikit-plot) (1.21.6)\n",
            "Requirement already satisfied: cycler>=0.10 in /usr/local/lib/python3.7/dist-packages (from matplotlib>=1.4.0->scikit-plot) (0.11.0)\n",
            "Requirement already satisfied: kiwisolver>=1.0.1 in /usr/local/lib/python3.7/dist-packages (from matplotlib>=1.4.0->scikit-plot) (1.4.4)\n",
            "Requirement already satisfied: pyparsing!=2.0.4,!=2.1.2,!=2.1.6,>=2.0.1 in /usr/local/lib/python3.7/dist-packages (from matplotlib>=1.4.0->scikit-plot) (3.0.9)\n",
            "Requirement already satisfied: typing-extensions in /usr/local/lib/python3.7/dist-packages (from kiwisolver>=1.0.1->matplotlib>=1.4.0->scikit-plot) (4.1.1)\n",
            "Requirement already satisfied: six>=1.5 in /usr/local/lib/python3.7/dist-packages (from python-dateutil>=2.1->matplotlib>=1.4.0->scikit-plot) (1.15.0)\n",
            "Requirement already satisfied: threadpoolctl>=2.0.0 in /usr/local/lib/python3.7/dist-packages (from scikit-learn>=0.18->scikit-plot) (3.1.0)\n",
            "Installing collected packages: scikit-plot\n",
            "Successfully installed scikit-plot-0.3.7\n"
          ]
        }
      ]
    },
    {
      "cell_type": "code",
      "source": [
        "import scikitplot as skplt"
      ],
      "metadata": {
        "id": "P5aiMGLNBnUX"
      },
      "id": "P5aiMGLNBnUX",
      "execution_count": null,
      "outputs": []
    },
    {
      "cell_type": "code",
      "source": [
        "y_upsampling=lgb_upsampling.predict(x_test)"
      ],
      "metadata": {
        "id": "mJEUOGOBG69j"
      },
      "id": "mJEUOGOBG69j",
      "execution_count": null,
      "outputs": []
    },
    {
      "cell_type": "code",
      "source": [
        "y_downsampling=lgb_downsampling.predict(x_test)"
      ],
      "metadata": {
        "id": "i1y_RHH9HBqM"
      },
      "id": "i1y_RHH9HBqM",
      "execution_count": null,
      "outputs": []
    },
    {
      "cell_type": "code",
      "source": [
        "y_upweighting=lgb_upweighting.predict(x_test)"
      ],
      "metadata": {
        "id": "h8iwNyWHHDtb"
      },
      "id": "h8iwNyWHHDtb",
      "execution_count": null,
      "outputs": []
    },
    {
      "cell_type": "code",
      "source": [
        "y_base=lgb_basemodel.predict(x_test)"
      ],
      "metadata": {
        "colab": {
          "base_uri": "https://localhost:8080/",
          "height": 166
        },
        "id": "eCTORIOaGPMF",
        "outputId": "9b68a287-f871-4e7c-ef48-ef6c42e0e274"
      },
      "id": "eCTORIOaGPMF",
      "execution_count": null,
      "outputs": [
        {
          "output_type": "error",
          "ename": "AttributeError",
          "evalue": "ignored",
          "traceback": [
            "\u001b[0;31m---------------------------------------------------------------------------\u001b[0m",
            "\u001b[0;31mAttributeError\u001b[0m                            Traceback (most recent call last)",
            "\u001b[0;32m<ipython-input-227-9a2864927a31>\u001b[0m in \u001b[0;36m<module>\u001b[0;34m()\u001b[0m\n\u001b[0;32m----> 1\u001b[0;31m \u001b[0my_base\u001b[0m\u001b[0;34m=\u001b[0m\u001b[0mlgb_basemodel\u001b[0m\u001b[0;34m.\u001b[0m\u001b[0mpredict\u001b[0m\u001b[0;34m(\u001b[0m\u001b[0mx_test\u001b[0m\u001b[0;34m)\u001b[0m\u001b[0;34m\u001b[0m\u001b[0;34m\u001b[0m\u001b[0m\n\u001b[0m",
            "\u001b[0;31mAttributeError\u001b[0m: 'function' object has no attribute 'predict'"
          ]
        }
      ]
    },
    {
      "cell_type": "code",
      "source": [
        "#upsampling\n",
        "skplt.metrics.plot_confusion_matrix(y_test,y_upsampling>0.5,normalize=False,figsize=(12,8),title='Confusion matrix for upsampling model')  #0.5 is threshold value\n",
        "plt.show()"
      ],
      "metadata": {
        "colab": {
          "base_uri": "https://localhost:8080/",
          "height": 513
        },
        "id": "ENBDP3RwHgc4",
        "outputId": "07ed27e0-e5af-47a1-955c-f8ad53e017b0"
      },
      "id": "ENBDP3RwHgc4",
      "execution_count": null,
      "outputs": [
        {
          "output_type": "display_data",
          "data": {
            "text/plain": [
              "<Figure size 864x576 with 2 Axes>"
            ],
            "image/png": "[encoded data removed]"
          },
          "metadata": {}
        }
      ]
    },
    {
      "cell_type": "code",
      "source": [
        "#Upsampling model\n",
        "cm_up=classification_report(y_test,y_upsampling>0.5)\n",
        "print(cm_up)\n"
      ],
      "metadata": {
        "colab": {
          "base_uri": "https://localhost:8080/"
        },
        "id": "vdT3k7TEHuCR",
        "outputId": "2cd61e1b-98e4-436a-e6e0-92ead895c1d7"
      },
      "id": "vdT3k7TEHuCR",
      "execution_count": null,
      "outputs": [
        {
          "output_type": "stream",
          "name": "stdout",
          "text": [
            "              precision    recall  f1-score   support\n",
            "\n",
            "           0       1.00      0.99      1.00     19949\n",
            "           1       0.17      0.65      0.27        51\n",
            "\n",
            "    accuracy                           0.99     20000\n",
            "   macro avg       0.58      0.82      0.63     20000\n",
            "weighted avg       1.00      0.99      0.99     20000\n",
            "\n"
          ]
        }
      ]
    },
    {
      "cell_type": "code",
      "source": [
        "#downsampling\n",
        "skplt.metrics.plot_confusion_matrix(y_test,y_downsampling>0.5,normalize=False,figsize=(12,8),title='Confusion matrix for downsampling model')  #0.5 is threshold value\n",
        "plt.show()"
      ],
      "metadata": {
        "colab": {
          "base_uri": "https://localhost:8080/",
          "height": 513
        },
        "id": "Amzd1z9cHmOh",
        "outputId": "baaec10e-fa02-48de-a8d3-a125a3b65646"
      },
      "id": "Amzd1z9cHmOh",
      "execution_count": null,
      "outputs": [
        {
          "output_type": "display_data",
          "data": {
            "text/plain": [
              "<Figure size 864x576 with 2 Axes>"
            ],
            "image/png": "[encoded data removed]"
          },
          "metadata": {}
        }
      ]
    },
    {
      "cell_type": "code",
      "source": [
        "#Downsampling model\n",
        "cm_up=classification_report(y_test,y_downsampling>0.5)\n",
        "print(cm_up)"
      ],
      "metadata": {
        "colab": {
          "base_uri": "https://localhost:8080/"
        },
        "id": "Zi6PiS5jHxt7",
        "outputId": "610afd58-ba97-4ccd-b453-53a866acd675"
      },
      "id": "Zi6PiS5jHxt7",
      "execution_count": null,
      "outputs": [
        {
          "output_type": "stream",
          "name": "stdout",
          "text": [
            "              precision    recall  f1-score   support\n",
            "\n",
            "           0       1.00      0.94      0.97     19949\n",
            "           1       0.03      0.86      0.06        51\n",
            "\n",
            "    accuracy                           0.93     20000\n",
            "   macro avg       0.52      0.90      0.51     20000\n",
            "weighted avg       1.00      0.93      0.96     20000\n",
            "\n"
          ]
        }
      ]
    },
    {
      "cell_type": "code",
      "source": [
        "#Upweighting\n",
        "skplt.metrics.plot_confusion_matrix(y_test,y_upweighting>0.5,normalize=False,figsize=(12,8),title='Confusion matrix for upweighting model')  #0.5 is threshold value\n",
        "plt.show()"
      ],
      "metadata": {
        "colab": {
          "base_uri": "https://localhost:8080/",
          "height": 513
        },
        "id": "EVW1tiFoHntu",
        "outputId": "7f8b8d89-4964-4bf0-8071-ffced3b6ffd9"
      },
      "id": "EVW1tiFoHntu",
      "execution_count": null,
      "outputs": [
        {
          "output_type": "display_data",
          "data": {
            "text/plain": [
              "<Figure size 864x576 with 2 Axes>"
            ],
            "image/png": "[encoded data removed]"
          },
          "metadata": {}
        }
      ]
    },
    {
      "cell_type": "code",
      "source": [
        "#Upweighting model\n",
        "cm_upweight=classification_report(y_test,y_upweighting>0.5)  # 0.5 is threshold value\n",
        "print(cm_upweight)"
      ],
      "metadata": {
        "colab": {
          "base_uri": "https://localhost:8080/"
        },
        "id": "Xmc4NmJgH0ZU",
        "outputId": "18066cf6-8135-42c7-e322-ec93d72d3955"
      },
      "id": "Xmc4NmJgH0ZU",
      "execution_count": null,
      "outputs": [
        {
          "output_type": "stream",
          "name": "stdout",
          "text": [
            "              precision    recall  f1-score   support\n",
            "\n",
            "           0       1.00      1.00      1.00     19949\n",
            "           1       0.00      0.00      0.00        51\n",
            "\n",
            "    accuracy                           1.00     20000\n",
            "   macro avg       0.50      0.50      0.50     20000\n",
            "weighted avg       0.99      1.00      1.00     20000\n",
            "\n"
          ]
        },
        {
          "output_type": "stream",
          "name": "stderr",
          "text": [
            "/usr/local/lib/python3.7/dist-packages/sklearn/metrics/_classification.py:1318: UndefinedMetricWarning: Precision and F-score are ill-defined and being set to 0.0 in labels with no predicted samples. Use `zero_division` parameter to control this behavior.\n",
            "  _warn_prf(average, modifier, msg_start, len(result))\n",
            "/usr/local/lib/python3.7/dist-packages/sklearn/metrics/_classification.py:1318: UndefinedMetricWarning: Precision and F-score are ill-defined and being set to 0.0 in labels with no predicted samples. Use `zero_division` parameter to control this behavior.\n",
            "  _warn_prf(average, modifier, msg_start, len(result))\n",
            "/usr/local/lib/python3.7/dist-packages/sklearn/metrics/_classification.py:1318: UndefinedMetricWarning: Precision and F-score are ill-defined and being set to 0.0 in labels with no predicted samples. Use `zero_division` parameter to control this behavior.\n",
            "  _warn_prf(average, modifier, msg_start, len(result))\n"
          ]
        }
      ]
    },
    {
      "cell_type": "code",
      "source": [
        "# List feature importance for all features\n",
        "print(\"Features importance...\")\n",
        "gain = lgb_upsampling.feature_importance('gain')\n",
        "ft = pd.DataFrame({'feature':lgb_upsampling.feature_name(), \n",
        "                   'split':lgb_upsampling.feature_importance('split'), \n",
        "                   'gain':100 * gain / gain.sum()}).sort_values('gain', ascending=False)\n",
        "print(ft)"
      ],
      "metadata": {
        "colab": {
          "base_uri": "https://localhost:8080/"
        },
        "id": "NGw0cz1TSZ6c",
        "outputId": "ebd51810-1336-4d1a-dabc-3e2ad9222935"
      },
      "id": "NGw0cz1TSZ6c",
      "execution_count": null,
      "outputs": [
        {
          "output_type": "stream",
          "name": "stdout",
          "text": [
            "Features importance...\n",
            "          feature  split       gain\n",
            "5      app_labels   1267  39.812532\n",
            "6   device_labels    496  21.384465\n",
            "4       ip_labels   1924  16.329615\n",
            "8  channel_labels   1504  11.790749\n",
            "7       os_labels    847   2.515884\n",
            "1            hour    727   2.337932\n",
            "2             min    775   2.152478\n",
            "3             sec    791   1.974634\n",
            "0             day    414   1.701711\n"
          ]
        }
      ]
    },
    {
      "cell_type": "code",
      "source": [
        "# Plot feature importance using the \"split\" method\n",
        "split = lgb.plot_importance(lgb_upsampling, importance_type=\"split\")\n",
        "plt.show(split) # Show the plot\n",
        "plt.savefig(\"feature_importance_split.png\") # Save the plot in the output"
      ],
      "metadata": {
        "colab": {
          "base_uri": "https://localhost:8080/",
          "height": 312
        },
        "id": "OTb_qoNXStQV",
        "outputId": "4d44ed86-5720-477f-8948-b176a8333541"
      },
      "id": "OTb_qoNXStQV",
      "execution_count": null,
      "outputs": [
        {
          "output_type": "display_data",
          "data": {
            "text/plain": [
              "<Figure size 432x288 with 1 Axes>"
            ],
            "image/png": "[encoded data removed]"
          },
          "metadata": {}
        },
        {
          "output_type": "display_data",
          "data": {
            "text/plain": [
              "<Figure size 432x288 with 0 Axes>"
            ]
          },
          "metadata": {}
        }
      ]
    },
    {
      "cell_type": "code",
      "source": [
        "#Plot feature importance using the \"gain\" method\n",
        "gain = lgb.plot_importance(lgb_upsampling, importance_type=\"gain\")\n",
        "plt.show(gain)\n",
        "plt.savefig(\"feature_importance_gain.png\")"
      ],
      "metadata": {
        "colab": {
          "base_uri": "https://localhost:8080/",
          "height": 312
        },
        "id": "jtohr7UHS1gL",
        "outputId": "3e265a95-ccb0-4920-9ade-5657962ace64"
      },
      "id": "jtohr7UHS1gL",
      "execution_count": null,
      "outputs": [
        {
          "output_type": "display_data",
          "data": {
            "text/plain": [
              "<Figure size 432x288 with 1 Axes>"
            ],
            "image/png": "[encoded data removed]"
          },
          "metadata": {}
        },
        {
          "output_type": "display_data",
          "data": {
            "text/plain": [
              "<Figure size 432x288 with 0 Axes>"
            ]
          },
          "metadata": {}
        }
      ]
    },
    {
      "cell_type": "code",
      "source": [
        "from sklearn.metrics import roc_auc_score\n",
        "from sklearn.metrics import roc_curve\n",
        "\n",
        "logit_roc_auc = roc_auc_score(y_test, y_upsampling)\n",
        "fpr, tpr, thresholds = roc_curve(y_test, y_upsampling)\n",
        "plt.figure()\n",
        "plt.plot(fpr, tpr, label='Light GBM (area = %0.2f)' % logit_roc_auc)\n",
        "plt.plot([0, 1], [0, 1],'r--')\n",
        "plt.xlim([0.0, 1.0])\n",
        "plt.ylim([0.0, 1.05])\n",
        "plt.xlabel('False Positive Rate')\n",
        "plt.ylabel('True Positive Rate')\n",
        "plt.title('Receiver operating characteristic')\n",
        "plt.legend(loc=\"lower right\")\n",
        "plt.savefig('Log_ROC')\n",
        "plt.show()"
      ],
      "metadata": {
        "colab": {
          "base_uri": "https://localhost:8080/",
          "height": 295
        },
        "id": "Ycw9pbNuTIX8",
        "outputId": "d803c9d6-c409-4bc5-b8b3-1d7016d28df8"
      },
      "id": "Ycw9pbNuTIX8",
      "execution_count": null,
      "outputs": [
        {
          "output_type": "display_data",
          "data": {
            "text/plain": [
              "<Figure size 432x288 with 1 Axes>"
            ],
            "image/png": "[encoded data removed]"
          },
          "metadata": {}
        }
      ]
    },
    {
      "cell_type": "markdown",
      "source": [
        "XGBoost"
      ],
      "metadata": {
        "id": "muzTvgd2JF1z"
      },
      "id": "muzTvgd2JF1z"
    },
    {
      "cell_type": "code",
      "source": [
        "import xgboost as xgb\n",
        "from xgboost import XGBClassifier, plot_importance"
      ],
      "metadata": {
        "id": "cN5JtnYnJOLy"
      },
      "id": "cN5JtnYnJOLy",
      "execution_count": null,
      "outputs": []
    },
    {
      "cell_type": "code",
      "source": [
        "XGB_model = XGBClassifier()\n",
        "XGB_model.fit(x_train,y_train)\n",
        "\n",
        "y_pred3 =XGB_model.predict_proba(x_val)\n",
        "y_pred3[:10]"
      ],
      "metadata": {
        "colab": {
          "base_uri": "https://localhost:8080/"
        },
        "id": "WPH4z8-aIU1p",
        "outputId": "a114a22b-e0f7-429e-e074-ac4f72a177f6"
      },
      "id": "WPH4z8-aIU1p",
      "execution_count": null,
      "outputs": [
        {
          "output_type": "execute_result",
          "data": {
            "text/plain": [
              "array([[9.9982142e-01, 1.7855964e-04],\n",
              "       [9.9698722e-01, 3.0128001e-03],\n",
              "       [9.9967617e-01, 3.2382060e-04],\n",
              "       [9.9864763e-01, 1.3523875e-03],\n",
              "       [9.9975955e-01, 2.4041905e-04],\n",
              "       [9.9983990e-01, 1.6007332e-04],\n",
              "       [9.9983305e-01, 1.6697648e-04],\n",
              "       [9.9942201e-01, 5.7801354e-04],\n",
              "       [9.9935830e-01, 6.4172916e-04],\n",
              "       [9.9977827e-01, 2.2173941e-04]], dtype=float32)"
            ]
          },
          "metadata": {},
          "execution_count": 239
        }
      ]
    },
    {
      "cell_type": "code",
      "source": [
        "from sklearn import preprocessing, metrics, ensemble\n",
        "from sklearn.preprocessing import LabelEncoder\n",
        "from sklearn.model_selection import train_test_split\n",
        "from sklearn.model_selection import KFold, GridSearchCV, cross_val_score\n",
        "from sklearn.ensemble import AdaBoostClassifier\n",
        "from sklearn.ensemble import GradientBoostingClassifier\n",
        "from sklearn.tree import DecisionTreeClassifier\n",
        "from sklearn import metrics\n"
      ],
      "metadata": {
        "id": "q_1vxdh2Jsyx"
      },
      "id": "q_1vxdh2Jsyx",
      "execution_count": null,
      "outputs": []
    },
    {
      "cell_type": "code",
      "source": [
        "ROC_Score=metrics.roc_auc_score(y_val,y_pred3[:,1])\n",
        "print(\"ROC Score of XGBoost Model :%.2f%%\" % (ROC_Score * 100.0) )"
      ],
      "metadata": {
        "colab": {
          "base_uri": "https://localhost:8080/"
        },
        "id": "zrsQR9ybJdgX",
        "outputId": "4bb7e715-8334-46ff-a811-db7f38fae700"
      },
      "id": "zrsQR9ybJdgX",
      "execution_count": null,
      "outputs": [
        {
          "output_type": "stream",
          "name": "stdout",
          "text": [
            "ROC Score of XGBoost Model :91.10%\n"
          ]
        }
      ]
    },
    {
      "cell_type": "code",
      "source": [
        "XGBC_model = XGBClassifier(max_depth=2,\n",
        "                                       n_estimators=100,\n",
        "                                       learning_rate=0.1,\n",
        "                                       subsample=0.6)\n",
        "XGBC_model.fit(x_train,y_train)\n",
        "y_pred4=XGBC_model.predict_proba(x_val)\n",
        "y_pred4[:10]"
      ],
      "metadata": {
        "colab": {
          "base_uri": "https://localhost:8080/"
        },
        "id": "KTpb4L2lNNwU",
        "outputId": "3fcca439-6e1f-4ef0-9105-b36a70067f35"
      },
      "id": "KTpb4L2lNNwU",
      "execution_count": null,
      "outputs": [
        {
          "output_type": "execute_result",
          "data": {
            "text/plain": [
              "array([[9.9977684e-01, 2.2314407e-04],\n",
              "       [9.9816293e-01, 1.8370751e-03],\n",
              "       [9.9964964e-01, 3.5036428e-04],\n",
              "       [9.9834275e-01, 1.6572269e-03],\n",
              "       [9.9959052e-01, 4.0949229e-04],\n",
              "       [9.9976981e-01, 2.3019132e-04],\n",
              "       [9.9976701e-01, 2.3299833e-04],\n",
              "       [9.9935710e-01, 6.4289960e-04],\n",
              "       [9.9940062e-01, 5.9938733e-04],\n",
              "       [9.9962419e-01, 3.7581654e-04]], dtype=float32)"
            ]
          },
          "metadata": {},
          "execution_count": 247
        }
      ]
    },
    {
      "cell_type": "code",
      "source": [
        "ROC_Score=metrics.roc_auc_score(y_val,y_pred4[:,1])\n",
        "print(\"ROC Score of Hyperparameter Tunned XGBoost Model :%.2f%%\" % (ROC_Score * 100.0) )"
      ],
      "metadata": {
        "colab": {
          "base_uri": "https://localhost:8080/"
        },
        "id": "YQr4d_70NSLa",
        "outputId": "804084c5-0f80-4e9d-c95a-3ef7620304e5"
      },
      "id": "YQr4d_70NSLa",
      "execution_count": null,
      "outputs": [
        {
          "output_type": "stream",
          "name": "stdout",
          "text": [
            "ROC Score of Hyperparameter Tunned XGBoost Model :91.77%\n"
          ]
        }
      ]
    },
    {
      "cell_type": "code",
      "source": [
        "metrics.plot_roc_curve(XGBC_model,x_val,y_val)\n",
        "plt.show()"
      ],
      "metadata": {
        "colab": {
          "base_uri": "https://localhost:8080/",
          "height": 334
        },
        "id": "0IyCNPSlNUz5",
        "outputId": "86d1537b-ed24-40fd-85d8-72d5ce17260b"
      },
      "id": "0IyCNPSlNUz5",
      "execution_count": null,
      "outputs": [
        {
          "output_type": "stream",
          "name": "stderr",
          "text": [
            "/usr/local/lib/python3.7/dist-packages/sklearn/utils/deprecation.py:87: FutureWarning: Function plot_roc_curve is deprecated; Function :func:`plot_roc_curve` is deprecated in 1.0 and will be removed in 1.2. Use one of the class methods: :meth:`sklearn.metric.RocCurveDisplay.from_predictions` or :meth:`sklearn.metric.RocCurveDisplay.from_estimator`.\n",
            "  warnings.warn(msg, category=FutureWarning)\n"
          ]
        },
        {
          "output_type": "display_data",
          "data": {
            "text/plain": [
              "<Figure size 432x288 with 1 Axes>"
            ],
            "image/png": "[encoded data removed]"
          },
          "metadata": {}
        }
      ]
    },
    {
      "cell_type": "code",
      "source": [
        "plt.bar(range(len(XGBC_model.feature_importances_)), XGBC_model.feature_importances_)\n",
        "plt.show()"
      ],
      "metadata": {
        "colab": {
          "base_uri": "https://localhost:8080/",
          "height": 265
        },
        "id": "gxy7t5UPNYxh",
        "outputId": "c0e50e50-9d10-405d-a2ae-f3be8260a261"
      },
      "id": "gxy7t5UPNYxh",
      "execution_count": null,
      "outputs": [
        {
          "output_type": "display_data",
          "data": {
            "text/plain": [
              "<Figure size 432x288 with 1 Axes>"
            ],
            "image/png": "[encoded data removed]"
          },
          "metadata": {}
        }
      ]
    },
    {
      "cell_type": "code",
      "source": [
        "# feature importance\n",
        "importance = dict(zip(x_train.columns, XGBC_model.feature_importances_))\n",
        "importance"
      ],
      "metadata": {
        "colab": {
          "base_uri": "https://localhost:8080/"
        },
        "id": "7ZOL4XlgNbmM",
        "outputId": "924ebafd-4b2b-4f08-dee2-ec7549188a79"
      },
      "id": "7ZOL4XlgNbmM",
      "execution_count": null,
      "outputs": [
        {
          "output_type": "execute_result",
          "data": {
            "text/plain": [
              "{'app_labels': 0.16044758,\n",
              " 'channel_labels': 0.2220233,\n",
              " 'day': 0.088595085,\n",
              " 'device_labels': 0.123786494,\n",
              " 'hour': 0.048538636,\n",
              " 'ip_labels': 0.1457562,\n",
              " 'min': 0.069628604,\n",
              " 'os_labels': 0.10311112,\n",
              " 'sec': 0.03811297}"
            ]
          },
          "metadata": {},
          "execution_count": 253
        }
      ]
    }
  ],
  "metadata": {
    "kernelspec": {
      "display_name": "Python 3 (ipykernel)",
      "language": "python",
      "name": "python3"
    },
    "language_info": {
      "codemirror_mode": {
        "name": "ipython",
        "version": 3
      },
      "file_extension": ".py",
      "mimetype": "text/x-python",
      "name": "python",
      "nbconvert_exporter": "python",
      "pygments_lexer": "ipython3",
      "version": "3.8.8"
    },
    "colab": {
      "name": "Ad-Click-Fraud Project",
      "provenance": [],
      "machine_shape": "hm"
    },
    "accelerator": "GPU",
    "gpuClass": "standard"
  },
  "nbformat": 4,
  "nbformat_minor": 5
}